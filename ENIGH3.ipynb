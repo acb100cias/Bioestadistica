{
  "nbformat": 4,
  "nbformat_minor": 0,
  "metadata": {
    "colab": {
      "private_outputs": true,
      "provenance": [],
      "authorship_tag": "ABX9TyOZzc2yoztmFsRbP6s0aOXF",
      "include_colab_link": true
    },
    "kernelspec": {
      "name": "python3",
      "display_name": "Python 3"
    },
    "language_info": {
      "name": "python"
    }
  },
  "cells": [
    {
      "cell_type": "markdown",
      "metadata": {
        "id": "view-in-github",
        "colab_type": "text"
      },
      "source": [
        "<a href=\"https://colab.research.google.com/github/acb100cias/Bioestadistica/blob/main/ENIGH3.ipynb\" target=\"_parent\"><img src=\"https://colab.research.google.com/assets/colab-badge.svg\" alt=\"Open In Colab\"/></a>"
      ]
    },
    {
      "cell_type": "code",
      "execution_count": null,
      "metadata": {
        "id": "_GDVfteQhqDH"
      },
      "outputs": [],
      "source": [
        "import numpy as np\n",
        "import pandas as pd\n",
        "import seaborn as sbs\n",
        "import matplotlib.pyplot as plt\n",
        "\n",
        "e2=pd.read_csv('/content/enigh2022.csv')\n",
        "eE=pd.DataFrame(e2.groupby('NOM_ENT'))\n"
      ]
    },
    {
      "cell_type": "code",
      "source": [
        "for i in eE.index:\n",
        "  nom=eE[0][i]\n",
        "  data=eE[1][i]\n",
        "  f1=pd.DataFrame(data.filter(['folioviv','NOM_MUN','tam_loc','ing_cor','sexo_jefe']).groupby('tam_loc'))\n",
        "  try:\n",
        "\n",
        "    f2=f1[1][3].filter(['NOM_MUN','ing_cor','sexo_jefe'])\n",
        "    tabla=f2.pivot_table(index='NOM_MUN',columns='sexo_jefe',aggfunc=['mean','count'])\n",
        "    tabla=tabla.round(2)\n",
        "    tabla=tabla.rename_axis('Municipio')\n",
        "    tabla=tabla.droplevel(1,axis=1)\n",
        "    tabla=tabla.rename(columns={'mean':'ingreso promedio','count':'hogares',1:'Hombre',2:'Mujer'})\n",
        "    tabla.to_csv(nom+'_ingreso_promedio_hogares_sexo.csv')\n",
        "    tabla['ingreso promedio'].plot(kind='bar')\n",
        "    plt.title(nom)\n",
        "    plt.savefig(nom+'.jpg')\n",
        "    plt.close()\n",
        "  except:\n",
        "    if len(e2.loc[(e2['tam_loc']==4)&(e2['NOM_ENT']==nom)])>0:\n",
        "      f2=f1[1][2].filter(['NOM_MUN','ing_cor','sexo_jefe'])\n",
        "      tabla=f2.pivot_table(index='NOM_MUN',columns='sexo_jefe',aggfunc=['mean','count'])\n",
        "      tabla=tabla.round(2)\n",
        "      tabla=tabla.rename_axis('Municipio')\n",
        "      tabla=tabla.droplevel(1,axis=1)\n",
        "      tabla=tabla.rename(columns={'mean':'ingreso promedio','count':'hogares',1:'Hombre',2:'Mujer'})\n",
        "      tabla.to_csv(nom+'_ingreso_promedio_hogares_sexo.csv')\n",
        "      tabla['ingreso promedio'].plot(kind='bar')\n",
        "      plt.title(nom)\n",
        "      plt.savefig(nom+'.jpg')\n",
        "      plt.close()\n",
        "    else:\n",
        "      print('no hay datos para '+nom)\n",
        "      continue\n",
        "\n",
        ""
      ],
      "metadata": {
        "id": "a3Vmh0JDi0jU"
      },
      "execution_count": null,
      "outputs": []
    },
    {
      "cell_type": "code",
      "source": [
        "len(e2.loc[(e2['tam_loc']==4)&(e2['NOM_ENT']=='Zacatecas')])"
      ],
      "metadata": {
        "id": "fkodFza1jXsk"
      },
      "execution_count": null,
      "outputs": []
    },
    {
      "cell_type": "code",
      "source": [
        "e3=e2.filter(['folioviv','NOM_ENT','ing_cor','educa_jefe']).dropna()"
      ],
      "metadata": {
        "id": "fcQqaKzzmzPN"
      },
      "execution_count": null,
      "outputs": []
    },
    {
      "cell_type": "code",
      "source": [
        "e2.filter(['ing_cor','sueldos']).corr()"
      ],
      "metadata": {
        "id": "3uB0QiK9nz-k"
      },
      "execution_count": null,
      "outputs": []
    },
    {
      "cell_type": "code",
      "source": [
        "e2.keys().values"
      ],
      "metadata": {
        "id": "m6kyXjFHop3C"
      },
      "execution_count": null,
      "outputs": []
    },
    {
      "cell_type": "code",
      "source": [
        "e2.filter(['ing_cor','sueldos']).plot(kind='scatter',x='ing_cor',y='sueldos')\n",
        "e2.filter(['ing_cor','gasto_mon']).plot(kind='scatter',x='ing_cor',y='gasto_mon')"
      ],
      "metadata": {
        "id": "AG7V_rALpKr8"
      },
      "execution_count": null,
      "outputs": []
    },
    {
      "cell_type": "code",
      "source": [],
      "metadata": {
        "id": "gWUERK__qf1q"
      },
      "execution_count": null,
      "outputs": []
    }
  ]
}