{
  "nbformat": 4,
  "nbformat_minor": 0,
  "metadata": {
    "colab": {
      "private_outputs": true,
      "provenance": [],
      "authorship_tag": "ABX9TyPHlM/kGKgmT5nlh5YKrKWj",
      "include_colab_link": true
    },
    "kernelspec": {
      "name": "python3",
      "display_name": "Python 3"
    },
    "language_info": {
      "name": "python"
    }
  },
  "cells": [
    {
      "cell_type": "markdown",
      "metadata": {
        "id": "view-in-github",
        "colab_type": "text"
      },
      "source": [
        "<a href=\"https://colab.research.google.com/github/acb100cias/Bioestadistica/blob/main/PlotlyGo.ipynb\" target=\"_parent\"><img src=\"https://colab.research.google.com/assets/colab-badge.svg\" alt=\"Open In Colab\"/></a>"
      ]
    },
    {
      "cell_type": "markdown",
      "source": [
        "#Ejemplos de mapas usando Graph Objects"
      ],
      "metadata": {
        "id": "NUDWKQTmEkON"
      }
    },
    {
      "cell_type": "code",
      "source": [
        "import pandas as pd\n",
        "import plotly.graph_objects as go"
      ],
      "metadata": {
        "id": "jOGocnV5Et6G"
      },
      "execution_count": null,
      "outputs": []
    },
    {
      "cell_type": "markdown",
      "source": [
        "## 1. Proyección de la población en un conjunto de ciudades"
      ],
      "metadata": {
        "id": "PPKr4IJLEulU"
      }
    },
    {
      "cell_type": "code",
      "execution_count": null,
      "metadata": {
        "id": "CSI-RgcGC4lu"
      },
      "outputs": [],
      "source": [
        "purbana=pd.read_csv('/content/pob_urbana.csv')"
      ]
    },
    {
      "cell_type": "code",
      "source": [
        "purbana.keys()"
      ],
      "metadata": {
        "id": "-J0zllK6FTSh"
      },
      "execution_count": null,
      "outputs": []
    },
    {
      "cell_type": "code",
      "source": [
        "pu=purbana.filter(['City','Country','Latitude','Longitude','pop2025'])"
      ],
      "metadata": {
        "id": "CZaF7yr8FUFU"
      },
      "execution_count": null,
      "outputs": []
    },
    {
      "cell_type": "code",
      "source": [
        "pu['p25']=pu['pop2025']/1000\n"
      ],
      "metadata": {
        "id": "RYy7cmxcGHrh"
      },
      "execution_count": null,
      "outputs": []
    },
    {
      "cell_type": "code",
      "source": [
        "pu"
      ],
      "metadata": {
        "id": "BF1tKkC-GVbx"
      },
      "execution_count": null,
      "outputs": []
    },
    {
      "cell_type": "code",
      "source": [
        "pu['etiqueta']=pu['City']+'<br>'+pu['p25'].astype(str)+' millones de personas.'"
      ],
      "metadata": {
        "id": "gJUkb8xvGV_R"
      },
      "execution_count": null,
      "outputs": []
    },
    {
      "cell_type": "code",
      "source": [
        "pu"
      ],
      "metadata": {
        "id": "7kvjn9LfGzci"
      },
      "execution_count": null,
      "outputs": []
    },
    {
      "cell_type": "code",
      "source": [
        "fig=go.Figure()\n",
        "for i in pu:\n",
        "  fig.add_trace(go.Scattergeo(\n",
        "     lon=pu.Longitude,\n",
        "     lat=pu.Latitude,\n",
        "     text=pu.etiqueta,\n",
        "     marker=dict(\n",
        "         size=pu.p25*10,\n",
        "         color='lightseagreen',\n",
        "         line_color='black',\n",
        "         line_width=0.5,\n",
        "         sizemode='area'\n",
        "     )\n",
        "  )\n",
        "\n",
        "  )"
      ],
      "metadata": {
        "id": "w9v7ifyMG0Eg"
      },
      "execution_count": null,
      "outputs": []
    },
    {
      "cell_type": "code",
      "source": [
        "fig.show()"
      ],
      "metadata": {
        "id": "gs4y1deCHsZ2"
      },
      "execution_count": null,
      "outputs": []
    },
    {
      "cell_type": "code",
      "source": [
        "fig.update_layout(\n",
        "    title_text=r'$\\textbf{Proyección de la población para distintas ciudades para el año 2025}$',\n",
        "    showlegend=False,\n",
        "    geo=dict(\n",
        "       scope='world',\n",
        "       resolution=110,\n",
        "       projection_type='mollweide',\n",
        "       showocean=True,\n",
        "       showcoastlines=True,\n",
        "       oceancolor='#132630',\n",
        "        lakecolor='#132630',\n",
        "        coastlinecolor='#224354',\n",
        "        landcolor='#224354',\n",
        "    )\n",
        ")"
      ],
      "metadata": {
        "id": "3eEsAaTRHuLC"
      },
      "execution_count": null,
      "outputs": []
    },
    {
      "cell_type": "markdown",
      "source": [
        "##2. Población urbana europea##"
      ],
      "metadata": {
        "id": "l4TkPWt9JVpS"
      }
    },
    {
      "cell_type": "code",
      "source": [
        "pe=pd.read_csv('/content/poblacion_urbana_europa.csv')"
      ],
      "metadata": {
        "id": "GzsDaDmwIq80"
      },
      "execution_count": null,
      "outputs": []
    },
    {
      "cell_type": "code",
      "source": [
        "pe"
      ],
      "metadata": {
        "id": "SCI4zMMZJi3O"
      },
      "execution_count": null,
      "outputs": []
    },
    {
      "cell_type": "code",
      "source": [
        "fig=go.Figure(go.Choropleth(\n",
        "    locations=pe['Country'],\n",
        "    locationmode='country names',\n",
        "    z=pe['Urban_pop_2015'],\n",
        "    text=pe['Country'],\n",
        "    colorscale='jet',\n",
        "    autocolorscale=False,\n",
        "    reversescale=True,\n",
        "    marker_line_color='#efefef',\n",
        "    marker_line_width=0.5,\n",
        "    colorbar_ticksuffix = '%',\n",
        "    colorbar_title = 'Población urbana',\n",
        ")\n",
        ")"
      ],
      "metadata": {
        "id": "pTiHQ7x1JmjD"
      },
      "execution_count": null,
      "outputs": []
    },
    {
      "cell_type": "code",
      "source": [
        "fig.show()"
      ],
      "metadata": {
        "id": "pkYhwQ3TKd3N"
      },
      "execution_count": null,
      "outputs": []
    },
    {
      "cell_type": "code",
      "source": [
        "fig.update_layout(\n",
        "    title_text = 'Porcentaje de población urbana en Europa por país, año 2015',\n",
        "    showlegend = False,\n",
        "    geo = dict(\n",
        "        scope='europe',\n",
        "        resolution=50,\n",
        "        projection_type='miller',\n",
        "        showcoastlines=True,\n",
        "        showocean=True,\n",
        "        showcountries=True,\n",
        "        oceancolor='#eaeaea',\n",
        "        lakecolor='#eaeaea',\n",
        "        coastlinecolor='#dadada'\n",
        "    )\n",
        ")"
      ],
      "metadata": {
        "id": "vj9Zzda8Kg10"
      },
      "execution_count": null,
      "outputs": []
    },
    {
      "cell_type": "markdown",
      "source": [
        "##3. Tren trans-siberiano"
      ],
      "metadata": {
        "id": "FLtYRo2oK0IG"
      }
    },
    {
      "cell_type": "code",
      "source": [
        "tren=pd.read_csv('/content/ciudades.csv')\n",
        "paradas=pd.read_csv('/content/etapas.csv')"
      ],
      "metadata": {
        "id": "pdNLy0OlKr6M"
      },
      "execution_count": null,
      "outputs": []
    },
    {
      "cell_type": "code",
      "source": [
        "tren"
      ],
      "metadata": {
        "id": "YgH5Z5PvLOzB"
      },
      "execution_count": null,
      "outputs": []
    },
    {
      "cell_type": "code",
      "source": [
        "paradas"
      ],
      "metadata": {
        "id": "UIY2CnJeLPnl"
      },
      "execution_count": null,
      "outputs": []
    },
    {
      "cell_type": "code",
      "source": [
        "fig=go.Figure()\n",
        "for i in range(len(paradas)):\n",
        "  fig.add_trace(\n",
        "      go.Scattergeo(\n",
        "          lon = [paradas['lon_ini'][i], paradas['lon_fin'][i]],\n",
        "          lat = [paradas['lat_ini'][i], paradas['lat_fin'][i]],\n",
        "          mode = 'lines',\n",
        "          line = dict(width = 1,color = 'red')\n",
        "                )\n",
        "  )\n"
      ],
      "metadata": {
        "id": "bw0qSo8HLUPG"
      },
      "execution_count": null,
      "outputs": []
    },
    {
      "cell_type": "code",
      "source": [
        "fig.show()"
      ],
      "metadata": {
        "id": "OKa8fSgSMCkO"
      },
      "execution_count": null,
      "outputs": []
    },
    {
      "cell_type": "code",
      "source": [
        "fig.add_trace(\n",
        "    go.Scattergeo(\n",
        "    lon = tren['lon'],\n",
        "    lat = tren['lat'],\n",
        "    text = tren['Nombre'],\n",
        "    marker = dict(\n",
        "        size = 5,\n",
        "        color = 'red',\n",
        "        line = dict(\n",
        "            width = 0.5,\n",
        "            color = 'white'\n",
        "    )\n",
        ")))"
      ],
      "metadata": {
        "id": "Cfa4zREzMD5t"
      },
      "execution_count": null,
      "outputs": []
    },
    {
      "cell_type": "code",
      "source": [
        "fig.update_layout(\n",
        "    title_text = 'Ruta del Tren Trans-siberiano',\n",
        "    showlegend = False,\n",
        "    geo = dict(\n",
        "        scope='world',\n",
        "        resolution=110,\n",
        "        projection = dict(\n",
        "            type = 'orthographic',\n",
        "            rotation = dict(\n",
        "                lon = 100,\n",
        "                lat = 60,\n",
        "                roll = 0\n",
        "            )\n",
        "        ),\n",
        "        # Añadimos ejes de meridianos\n",
        "        lonaxis = dict(\n",
        "            showgrid = True,\n",
        "            gridcolor = 'rgb(102, 102, 102)',\n",
        "            gridwidth = 0.5\n",
        "        ),\n",
        "        # Añadimos ejes de paralelos\n",
        "        lataxis = dict(\n",
        "            showgrid = True,\n",
        "            gridcolor = 'rgb(102, 102, 102)',\n",
        "            gridwidth = 0.5\n",
        "        ),\n",
        "        showcoastlines=True,\n",
        "        showocean=True,\n",
        "        showcountries=True,\n",
        "        countrycolor='#829199',\n",
        "        oceancolor='#132630',\n",
        "        lakecolor='#132630',\n",
        "        coastlinecolor='#829199',\n",
        "        landcolor='#224354',\n",
        "    )\n",
        ")\n"
      ],
      "metadata": {
        "id": "8U0EBIDwMWf3"
      },
      "execution_count": null,
      "outputs": []
    },
    {
      "cell_type": "code",
      "source": [],
      "metadata": {
        "id": "6T_2Y1eqMsuf"
      },
      "execution_count": null,
      "outputs": []
    }
  ]
}