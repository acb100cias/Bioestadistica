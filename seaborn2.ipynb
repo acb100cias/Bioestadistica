{
  "nbformat": 4,
  "nbformat_minor": 0,
  "metadata": {
    "colab": {
      "private_outputs": true,
      "provenance": [],
      "authorship_tag": "ABX9TyOHpmwSxQNbjSE9vtzmtLXL",
      "include_colab_link": true
    },
    "kernelspec": {
      "name": "python3",
      "display_name": "Python 3"
    },
    "language_info": {
      "name": "python"
    }
  },
  "cells": [
    {
      "cell_type": "markdown",
      "metadata": {
        "id": "view-in-github",
        "colab_type": "text"
      },
      "source": [
        "<a href=\"https://colab.research.google.com/github/acb100cias/Bioestadistica/blob/main/seaborn2.ipynb\" target=\"_parent\"><img src=\"https://colab.research.google.com/assets/colab-badge.svg\" alt=\"Open In Colab\"/></a>"
      ]
    },
    {
      "cell_type": "code",
      "execution_count": null,
      "metadata": {
        "id": "4Mod-6LMPJrG"
      },
      "outputs": [],
      "source": [
        "import numpy as np\n",
        "import pandas as pd\n",
        "import seaborn as sns"
      ]
    },
    {
      "cell_type": "code",
      "source": [
        "fl=sns.load_dataset('flights')"
      ],
      "metadata": {
        "id": "Y8tbf7NQRax6"
      },
      "execution_count": null,
      "outputs": []
    },
    {
      "cell_type": "code",
      "source": [
        "fl"
      ],
      "metadata": {
        "id": "WnqpYTYpRhKl"
      },
      "execution_count": null,
      "outputs": []
    },
    {
      "cell_type": "code",
      "source": [
        "sns.relplot(fl,x='year',y='passengers',hue='month',kind='line')"
      ],
      "metadata": {
        "id": "1aTxhEqjRjYq"
      },
      "execution_count": null,
      "outputs": []
    },
    {
      "cell_type": "code",
      "source": [
        "fl"
      ],
      "metadata": {
        "id": "nEyEE1kSSF7D"
      },
      "execution_count": null,
      "outputs": []
    },
    {
      "cell_type": "code",
      "source": [
        "fl2=fl.pivot(index='year',columns='month',values='passengers')"
      ],
      "metadata": {
        "id": "jS9-aoLMSehC"
      },
      "execution_count": null,
      "outputs": []
    },
    {
      "cell_type": "code",
      "source": [
        "fl2"
      ],
      "metadata": {
        "id": "_fFk6iNDS7Ar"
      },
      "execution_count": null,
      "outputs": []
    },
    {
      "cell_type": "code",
      "source": [
        "sns.relplot(fl2,kind='line')"
      ],
      "metadata": {
        "id": "kPlMApRES76Q"
      },
      "execution_count": null,
      "outputs": []
    },
    {
      "cell_type": "code",
      "source": [
        "sns.relplot(fl,x='month',y='passengers',hue='year',kind='line')"
      ],
      "metadata": {
        "id": "1c4dbrvZTPEn"
      },
      "execution_count": null,
      "outputs": []
    },
    {
      "cell_type": "code",
      "source": [
        "  fl2.T"
      ],
      "metadata": {
        "id": "oK6uryp-T18H"
      },
      "execution_count": null,
      "outputs": []
    },
    {
      "cell_type": "code",
      "source": [
        "sns.relplot(fl2.T,kind='line')"
      ],
      "metadata": {
        "id": "8AiIdsazUJpF"
      },
      "execution_count": null,
      "outputs": []
    },
    {
      "cell_type": "code",
      "source": [
        "fldic=fl.to_dict()"
      ],
      "metadata": {
        "id": "Yzau8M5CUdld"
      },
      "execution_count": null,
      "outputs": []
    },
    {
      "cell_type": "code",
      "source": [
        "fldic"
      ],
      "metadata": {
        "id": "iFlGJJdkUp7m"
      },
      "execution_count": null,
      "outputs": []
    },
    {
      "cell_type": "code",
      "source": [
        "sns.relplot(fldic,x='year',y='passengers',hue='month',kind='line')"
      ],
      "metadata": {
        "id": "cIXpvMVnUt4M"
      },
      "execution_count": null,
      "outputs": []
    },
    {
      "cell_type": "code",
      "source": [
        "pd.DataFrame(fl.groupby('year'))[1][0]"
      ],
      "metadata": {
        "id": "RISfQZUZVEWB"
      },
      "execution_count": null,
      "outputs": []
    },
    {
      "cell_type": "code",
      "source": [
        "flm=fl.groupby('year').mean(numeric_only=True)"
      ],
      "metadata": {
        "id": "7CzXTrd3VNPk"
      },
      "execution_count": null,
      "outputs": []
    },
    {
      "cell_type": "code",
      "source": [
        "sns.relplot(flm,x='year',y='passengers',kind='line')"
      ],
      "metadata": {
        "id": "Bi-Z4VjkVnVI"
      },
      "execution_count": null,
      "outputs": []
    },
    {
      "cell_type": "code",
      "source": [
        "fl2"
      ],
      "metadata": {
        "id": "kbizwqiZWJwu"
      },
      "execution_count": null,
      "outputs": []
    },
    {
      "cell_type": "code",
      "source": [
        "fl2l=[col for _ , col in fl2.items()]"
      ],
      "metadata": {
        "id": "QN020r2lWjRK"
      },
      "execution_count": null,
      "outputs": []
    },
    {
      "cell_type": "code",
      "source": [
        "fl2l"
      ],
      "metadata": {
        "id": "cdzd-ZYBWuQK"
      },
      "execution_count": null,
      "outputs": []
    },
    {
      "cell_type": "code",
      "source": [
        "sns.relplot(fl2l,kind='line')"
      ],
      "metadata": {
        "id": "2pdEVcWrWvVK"
      },
      "execution_count": null,
      "outputs": []
    },
    {
      "cell_type": "code",
      "source": [
        "s=[fl2.loc[:1955,'Jan'],fl2.loc[1952:,'Aug']]"
      ],
      "metadata": {
        "id": "iB7xx7jDW7Yo"
      },
      "execution_count": null,
      "outputs": []
    },
    {
      "cell_type": "code",
      "source": [
        "s"
      ],
      "metadata": {
        "id": "oGdB2K3RXJDg"
      },
      "execution_count": null,
      "outputs": []
    },
    {
      "cell_type": "code",
      "source": [
        "sns.relplot(s,kind='line')"
      ],
      "metadata": {
        "id": "oyUTpAZ0XYP3"
      },
      "execution_count": null,
      "outputs": []
    },
    {
      "cell_type": "code",
      "source": [],
      "metadata": {
        "id": "yrO6xAoLXf1i"
      },
      "execution_count": null,
      "outputs": []
    }
  ]
}