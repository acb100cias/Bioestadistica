{
  "nbformat": 4,
  "nbformat_minor": 0,
  "metadata": {
    "colab": {
      "private_outputs": true,
      "provenance": [],
      "authorship_tag": "ABX9TyNnhq1DTDbgUYJGy+KPgbRu",
      "include_colab_link": true
    },
    "kernelspec": {
      "name": "python3",
      "display_name": "Python 3"
    },
    "language_info": {
      "name": "python"
    }
  },
  "cells": [
    {
      "cell_type": "markdown",
      "metadata": {
        "id": "view-in-github",
        "colab_type": "text"
      },
      "source": [
        "<a href=\"https://colab.research.google.com/github/acb100cias/Bioestadistica/blob/main/ENIGH2.ipynb\" target=\"_parent\"><img src=\"https://colab.research.google.com/assets/colab-badge.svg\" alt=\"Open In Colab\"/></a>"
      ]
    },
    {
      "cell_type": "code",
      "execution_count": null,
      "metadata": {
        "id": "KXEHKX2nRetL"
      },
      "outputs": [],
      "source": [
        "import numpy as np\n",
        "import pandas as pd\n",
        "import seaborn as sbs\n",
        "import matplotlib.pyplot as plt\n"
      ]
    },
    {
      "cell_type": "code",
      "source": [
        "e1=pd.read_csv('/content/conjunto_de_datos_concentradohogar_enigh2022_ns.csv')\n",
        "I1=pd.read_csv('/content/AGEEML_202410111633945.csv',encoding='latin1')\n"
      ],
      "metadata": {
        "id": "hgb8IVscXrfX"
      },
      "execution_count": null,
      "outputs": []
    },
    {
      "cell_type": "code",
      "source": [
        "ubicageo=np.round(I1['CVEGEO']/10000).astype('int')\n"
      ],
      "metadata": {
        "id": "KNxARBnDXxKN"
      },
      "execution_count": null,
      "outputs": []
    },
    {
      "cell_type": "code",
      "source": [
        "T1=I1.filter(['NOM_ENT','NOM_MUN'])\n",
        "T1['ubica_geo']=ubicageo\n",
        "T1=T1.drop_duplicates()"
      ],
      "metadata": {
        "id": "vzSroYU4X_LJ"
      },
      "execution_count": null,
      "outputs": []
    },
    {
      "cell_type": "code",
      "source": [
        "e2=e1.merge(T1)"
      ],
      "metadata": {
        "id": "m8wokw3kYFvV"
      },
      "execution_count": null,
      "outputs": []
    },
    {
      "cell_type": "code",
      "source": [
        "e2.to_csv('enigh2022.csv')"
      ],
      "metadata": {
        "id": "mwzilUbsYL-T"
      },
      "execution_count": null,
      "outputs": []
    },
    {
      "cell_type": "code",
      "source": [
        "eE1=pd.DataFrame(e2.groupby('NOM_ENT'))"
      ],
      "metadata": {
        "id": "jhNfOuhbYMw1"
      },
      "execution_count": null,
      "outputs": []
    },
    {
      "cell_type": "code",
      "source": [
        "g1=pd.DataFrame(eE1[1][4].filter(['folioviv','tam_loc','NOM_MUN','ing_cor','sexo_jefe']).groupby('tam_loc'))"
      ],
      "metadata": {
        "id": "rH9m8OLWYz9a"
      },
      "execution_count": null,
      "outputs": []
    },
    {
      "cell_type": "code",
      "source": [
        "T2=g1[1][3].filter(['NOM_MUN','folio_viv','ing_cor','sexo_jefe']).pivot_table(index='NOM_MUN',columns='sexo_jefe',aggfunc=[np.mean,'count'])\n"
      ],
      "metadata": {
        "id": "xaaG4hMhZL2b"
      },
      "execution_count": null,
      "outputs": []
    },
    {
      "cell_type": "code",
      "source": [
        "T2=T2.rename_axis('Municipio')"
      ],
      "metadata": {
        "id": "Z6ImiC9CcG9w"
      },
      "execution_count": null,
      "outputs": []
    },
    {
      "cell_type": "code",
      "source": [
        "T2=T2.droplevel(1,axis=1)"
      ],
      "metadata": {
        "id": "VKRsaIx6d-2K"
      },
      "execution_count": null,
      "outputs": []
    },
    {
      "cell_type": "code",
      "source": [
        "T3=T2.rename(columns={'mean':'ingreso corriente medio','count':'hogares',1:'Hombre',2:'Mujer'})"
      ],
      "metadata": {
        "id": "BnETucuTed69"
      },
      "execution_count": null,
      "outputs": []
    },
    {
      "cell_type": "code",
      "source": [
        "T3.to_csv('ingreso_medio_por_sexo_del_jefe.csv')"
      ],
      "metadata": {
        "id": "LvjNbSxyh3x8"
      },
      "execution_count": null,
      "outputs": []
    },
    {
      "cell_type": "code",
      "source": [
        "T3['ingreso corriente medio'].plot()"
      ],
      "metadata": {
        "id": "4mFIlrfbiJDg"
      },
      "execution_count": null,
      "outputs": []
    },
    {
      "cell_type": "code",
      "source": [],
      "metadata": {
        "id": "9HHsuZioiaAu"
      },
      "execution_count": null,
      "outputs": []
    }
  ]
}