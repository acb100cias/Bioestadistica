{
  "nbformat": 4,
  "nbformat_minor": 0,
  "metadata": {
    "colab": {
      "private_outputs": true,
      "provenance": [],
      "authorship_tag": "ABX9TyORk3HIRLYN0MJkZu6MPPmq",
      "include_colab_link": true
    },
    "kernelspec": {
      "name": "python3",
      "display_name": "Python 3"
    },
    "language_info": {
      "name": "python"
    }
  },
  "cells": [
    {
      "cell_type": "markdown",
      "metadata": {
        "id": "view-in-github",
        "colab_type": "text"
      },
      "source": [
        "<a href=\"https://colab.research.google.com/github/acb100cias/Bioestadistica/blob/main/Folium1.ipynb\" target=\"_parent\"><img src=\"https://colab.research.google.com/assets/colab-badge.svg\" alt=\"Open In Colab\"/></a>"
      ]
    },
    {
      "cell_type": "code",
      "execution_count": null,
      "metadata": {
        "id": "6Ei_MZgXpnLg"
      },
      "outputs": [],
      "source": [
        "import folium\n",
        "import pandas as pd"
      ]
    },
    {
      "cell_type": "code",
      "source": [
        "folium.Map(location=[19.3094126,-99.257732],zoom_start=16)"
      ],
      "metadata": {
        "id": "BWME2gKIuFqb"
      },
      "execution_count": null,
      "outputs": []
    },
    {
      "cell_type": "code",
      "source": [
        "m1=folium.Map(location=[19.3094126,-99.257732],zoom_start=16)\n",
        "folium.Marker([19.3094126,-99.257732]).add_to(m1)"
      ],
      "metadata": {
        "id": "LlNH1smvuI54"
      },
      "execution_count": null,
      "outputs": []
    },
    {
      "cell_type": "code",
      "source": [
        "m1"
      ],
      "metadata": {
        "id": "A1Q1E5hzv6ee"
      },
      "execution_count": null,
      "outputs": []
    },
    {
      "cell_type": "code",
      "source": [
        "m2=folium.Map(location=(30,10),zoom_start=3,tiles='cartodb_positron')"
      ],
      "metadata": {
        "id": "26Xbd8Tov7St"
      },
      "execution_count": null,
      "outputs": []
    },
    {
      "cell_type": "code",
      "source": [
        "m2"
      ],
      "metadata": {
        "id": "Y9TyDIEhwTJC"
      },
      "execution_count": null,
      "outputs": []
    },
    {
      "cell_type": "code",
      "source": [
        "political_countries_url=('http://geojson.xyz/naturalearth-3.3.0/ne_50m_admin_0_countries.geojson')"
      ],
      "metadata": {
        "id": "k72xBvsgwVQV"
      },
      "execution_count": null,
      "outputs": []
    },
    {
      "cell_type": "code",
      "source": [
        "folium.GeoJson(political_countries_url).add_to(m2)"
      ],
      "metadata": {
        "id": "B7a3T-iFwmtC"
      },
      "execution_count": null,
      "outputs": []
    },
    {
      "cell_type": "code",
      "source": [
        "m2"
      ],
      "metadata": {
        "id": "-XAuKMkhw534"
      },
      "execution_count": null,
      "outputs": []
    },
    {
      "cell_type": "code",
      "source": [
        "eco=pd.read_excel('/content/NFBA 2023 Public Data Package 1.0.xlsx',sheet_name='Country Results (2019)'\n",
        "  ,skiprows=22,skipfooter=18).fillna(0)"
      ],
      "metadata": {
        "id": "1OpIRPOkw7CT"
      },
      "execution_count": null,
      "outputs": []
    },
    {
      "cell_type": "code",
      "source": [
        "eco.keys()"
      ],
      "metadata": {
        "id": "w2HDs-9i06e0"
      },
      "execution_count": null,
      "outputs": []
    },
    {
      "cell_type": "code",
      "source": [
        "folium.Choropleth(\n",
        "    geo_data=political_countries_url,\n",
        "    data=eco,\n",
        "    columns=['Country', 'Total Ecological Footprint (Production)'],\n",
        "    key_on='feature.properties.name',\n",
        "    fill_color=\"RdYlGn_r\",\n",
        "    fill_opacity=0.8,\n",
        "    line_opacity=0.3,\n",
        "    nan_fill_color=\"white\",\n",
        "    legend_name=\"Ecological footprint per capita\",\n",
        ").add_to(m2)"
      ],
      "metadata": {
        "id": "6AP8nsdeyt1a"
      },
      "execution_count": null,
      "outputs": []
    },
    {
      "cell_type": "code",
      "source": [
        "m2"
      ],
      "metadata": {
        "id": "Deg3T7rT0xYd"
      },
      "execution_count": null,
      "outputs": []
    },
    {
      "cell_type": "code",
      "source": [],
      "metadata": {
        "id": "_YRFmBjj1Aj9"
      },
      "execution_count": null,
      "outputs": []
    }
  ]
}