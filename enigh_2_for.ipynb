{
  "nbformat": 4,
  "nbformat_minor": 0,
  "metadata": {
    "colab": {
      "private_outputs": true,
      "provenance": [],
      "authorship_tag": "ABX9TyO73Gfu0f49dmaaBWenc2AT",
      "include_colab_link": true
    },
    "kernelspec": {
      "name": "python3",
      "display_name": "Python 3"
    },
    "language_info": {
      "name": "python"
    }
  },
  "cells": [
    {
      "cell_type": "markdown",
      "metadata": {
        "id": "view-in-github",
        "colab_type": "text"
      },
      "source": [
        "<a href=\"https://colab.research.google.com/github/acb100cias/Bioestadistica/blob/main/enigh_2_for.ipynb\" target=\"_parent\"><img src=\"https://colab.research.google.com/assets/colab-badge.svg\" alt=\"Open In Colab\"/></a>"
      ]
    },
    {
      "cell_type": "code",
      "execution_count": null,
      "metadata": {
        "id": "Jb6K3DVXNl66"
      },
      "outputs": [],
      "source": [
        "import numpy as np\n",
        "import pandas as pd\n",
        "import seaborn as sbs\n",
        "import matplotlib.pyplot as plt"
      ]
    },
    {
      "cell_type": "code",
      "source": [
        "e1=pd.read_csv('/content/conjunto_de_datos_concentradohogar_enigh2022_ns.csv')\n",
        "I1=pd.read_csv('/content/AGEEML_202410111633945.csv',encoding='latin1')\n"
      ],
      "metadata": {
        "id": "0JvcXBy7OK-e"
      },
      "execution_count": null,
      "outputs": []
    },
    {
      "cell_type": "code",
      "source": [
        "ubicageo=np.round(I1['CVEGEO']/10000).astype('int')\n",
        "T1=I1.filter(['NOM_ENT','NOM_MUN'])\n",
        "T1['ubica_geo']=ubicageo\n",
        "T1=T1.drop_duplicates()\n",
        "e2=e1.merge(T1)\n",
        "\n"
      ],
      "metadata": {
        "id": "bprJHGtNOPTT"
      },
      "execution_count": null,
      "outputs": []
    },
    {
      "cell_type": "code",
      "source": [
        "e2.to_csv('engigh2022_1.csv')"
      ],
      "metadata": {
        "id": "M3y5VtX3RN3H"
      },
      "execution_count": null,
      "outputs": []
    },
    {
      "cell_type": "code",
      "source": [
        "eE=pd.DataFrame(e2.groupby('NOM_ENT'))"
      ],
      "metadata": {
        "id": "qPiP3-FxRSs1"
      },
      "execution_count": null,
      "outputs": []
    },
    {
      "cell_type": "code",
      "source": [
        "eE"
      ],
      "metadata": {
        "id": "zkxQKKo9SD-r"
      },
      "execution_count": null,
      "outputs": []
    },
    {
      "cell_type": "code",
      "source": [
        "chiapas=eE[1][4]"
      ],
      "metadata": {
        "id": "C67LrMF7SLxs"
      },
      "execution_count": null,
      "outputs": []
    },
    {
      "cell_type": "code",
      "source": [
        "ch1=pd.DataFrame(chiapas.filter(['folioviv','NOM_MUN','tam_loc','ing_cor','sexo_jefe']).groupby('tam_loc'))"
      ],
      "metadata": {
        "id": "1AfGLF75Sfwf"
      },
      "execution_count": null,
      "outputs": []
    },
    {
      "cell_type": "code",
      "source": [
        "t0=ch1[1][3].filter(['NOM_MUN','ing_cor','sexo_jefe'])"
      ],
      "metadata": {
        "id": "cm1tMaiJTKBS"
      },
      "execution_count": null,
      "outputs": []
    },
    {
      "cell_type": "code",
      "source": [
        "T2=t0.pivot_table(index='NOM_MUN',columns='sexo_jefe',aggfunc=['mean','count'])"
      ],
      "metadata": {
        "id": "_RnQg9TVTY1a"
      },
      "execution_count": null,
      "outputs": []
    },
    {
      "cell_type": "code",
      "source": [
        "T2=T2.round(2)"
      ],
      "metadata": {
        "id": "ARYxA-c4UQ_-"
      },
      "execution_count": null,
      "outputs": []
    },
    {
      "cell_type": "code",
      "source": [
        "T2=T2.rename_axis('Municipio')"
      ],
      "metadata": {
        "id": "QDVdGNYYVtbX"
      },
      "execution_count": null,
      "outputs": []
    },
    {
      "cell_type": "code",
      "source": [
        "T2[('mean','ing_cor',1)]"
      ],
      "metadata": {
        "id": "-bsZjEn4WNY7"
      },
      "execution_count": null,
      "outputs": []
    },
    {
      "cell_type": "code",
      "source": [
        "T2=T2.droplevel(1,axis=1)"
      ],
      "metadata": {
        "id": "EJdL7tceWZXv"
      },
      "execution_count": null,
      "outputs": []
    },
    {
      "cell_type": "code",
      "source": [
        "T2=T2.rename(columns={'mean':'ingreso promedio','count':'hogares',1:'Hombre',2:'Mujer'})"
      ],
      "metadata": {
        "id": "JyEg3OFTW_XU"
      },
      "execution_count": null,
      "outputs": []
    },
    {
      "cell_type": "code",
      "source": [
        "T2.to_csv('chiapas_ingreso_promedio_hogares_sexo.csv')"
      ],
      "metadata": {
        "id": "Gwij4egAXbI6"
      },
      "execution_count": null,
      "outputs": []
    },
    {
      "cell_type": "code",
      "source": [
        "T2['ingreso promedio'].plot(kind='bar')\n",
        "plt.savefig('Chiapas.jpg')"
      ],
      "metadata": {
        "id": "9iUmEgRjXnW1"
      },
      "execution_count": null,
      "outputs": []
    },
    {
      "cell_type": "code",
      "source": [
        "Morelos=eE[1][15]\n",
        "Tam=eE[1][27]\n",
        "m1=pd.DataFrame(Morelos.filter(['folioviv','NOM_MUN','tam_loc','ing_cor','sexo_jefe']).groupby('tam_loc'))\n",
        "ta1=pd.DataFrame(Tam.filter(['folioviv','NOM_MUN','tam_loc','ing_cor','sexo_jefe']).groupby('tam_loc'))"
      ],
      "metadata": {
        "id": "ALIoFsPFYEPw"
      },
      "execution_count": null,
      "outputs": []
    },
    {
      "cell_type": "code",
      "source": [
        "t1=m1[1][3].filter(['NOM_MUN','ing_cor','sexo_jefe'])\n",
        "t2=ta1[1][3].filter(['NOM_MUN','ing_cor','sexo_jefe'])\n",
        "T3=t1.pivot_table(index='NOM_MUN',columns='sexo_jefe',aggfunc=['mean','count'])\n",
        "T4=t2.pivot_table(index='NOM_MUN',columns='sexo_jefe',aggfunc=['mean','count'])"
      ],
      "metadata": {
        "id": "MnU0kGCyZ8xv"
      },
      "execution_count": null,
      "outputs": []
    },
    {
      "cell_type": "code",
      "source": [
        "T3=T3.round(2)\n",
        "T3=T3.rename_axis('Municipio')\n",
        "T3=T3.droplevel(1,axis=1)\n",
        "T3=T3.rename(columns={'mean':'ingreso promedio','count':'hogares',1:'Hombre',2:'Mujer'})\n",
        "\n",
        "T4=T4.round(2)\n",
        "T4=T4.rename_axis('Municipio')\n",
        "T4=T4.droplevel(1,axis=1)\n",
        "T4=T4.rename(columns={'mean':'ingreso promedio','count':'hogares',1:'Hombre',2:'Mujer'})"
      ],
      "metadata": {
        "id": "4NThzhtYaTn4"
      },
      "execution_count": null,
      "outputs": []
    },
    {
      "cell_type": "code",
      "source": [
        "T3.to_csv('morelos_ingreso_promedio_hogares_sexo.csv')\n",
        "T4.to_csv('tamaulipas_ingreso_promedio_hogares_sexo.csv')"
      ],
      "metadata": {
        "id": "FtnRoCWpa1tQ"
      },
      "execution_count": null,
      "outputs": []
    },
    {
      "cell_type": "code",
      "source": [
        "T3['ingreso promedio'].plot(kind='bar')\n",
        "plt.savefig('Morelos.jpg')"
      ],
      "metadata": {
        "id": "zVBIXyT8a_us"
      },
      "execution_count": null,
      "outputs": []
    },
    {
      "cell_type": "code",
      "source": [
        "T4['ingreso promedio'].plot(kind='bar')\n",
        "plt.savefig('Tamaulipas.jpg')"
      ],
      "metadata": {
        "id": "Qww9xkObbE1Z"
      },
      "execution_count": null,
      "outputs": []
    },
    {
      "cell_type": "code",
      "source": [
        "for i in eE.index:\n",
        "  estado=eE[1][i]\n",
        "  nom=eE[0][i]\n",
        "  h1=pd.DataFrame(estado.filter(['folioviv','NOM_MUN','tam_loc','ing_cor','sexo_jefe']).groupby('tam_loc'))\n",
        "  r1=h1[1][3].filter(['NOM_MUN','ing_cor','sexo_jefe'])\n",
        "  tabla=r1.pivot_table(index='NOM_MUN',columns='sexo_jefe',aggfunc=['mean','count'])\n",
        "  tabla=tabla.round(2)\n",
        "  tabla=tabla.rename_axis('Municipio')\n",
        "  tabla=tabla.droplevel(1,axis=1)\n",
        "  tabla=tabla.rename(columns={'mean':'ingreso promedio','count':'hogares',1:'Hombre',2:'Mujer'})\n",
        "  tabla.to_csv(nom+'_ingreso_promedio_hogares_sexo.csv')\n",
        "  tabla['ingreso promedio'].plot(kind='bar')\n",
        "  plt.savefig(nom+'.jpg')"
      ],
      "metadata": {
        "id": "wNmNVA-ObQrf"
      },
      "execution_count": null,
      "outputs": []
    },
    {
      "cell_type": "code",
      "source": [],
      "metadata": {
        "id": "_JDESTLCcipt"
      },
      "execution_count": null,
      "outputs": []
    }
  ]
}