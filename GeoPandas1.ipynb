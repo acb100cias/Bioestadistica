{
  "nbformat": 4,
  "nbformat_minor": 0,
  "metadata": {
    "colab": {
      "private_outputs": true,
      "provenance": [],
      "authorship_tag": "ABX9TyN7jDIEut8FGmBOSLw8yUJn",
      "include_colab_link": true
    },
    "kernelspec": {
      "name": "python3",
      "display_name": "Python 3"
    },
    "language_info": {
      "name": "python"
    }
  },
  "cells": [
    {
      "cell_type": "markdown",
      "metadata": {
        "id": "view-in-github",
        "colab_type": "text"
      },
      "source": [
        "<a href=\"https://colab.research.google.com/github/acb100cias/Bioestadistica/blob/main/GeoPandas1.ipynb\" target=\"_parent\"><img src=\"https://colab.research.google.com/assets/colab-badge.svg\" alt=\"Open In Colab\"/></a>"
      ]
    },
    {
      "cell_type": "code",
      "execution_count": null,
      "metadata": {
        "id": "b52h92JGTMFe"
      },
      "outputs": [],
      "source": [
        "import geopandas as gpd\n",
        "import pandas as pd\n",
        "import matplotlib.pyplot as plt"
      ]
    },
    {
      "cell_type": "code",
      "source": [
        "cns=pd.read_csv('/content/conjunto_de_datos_iter_00CSV20.csv')"
      ],
      "metadata": {
        "id": "4p0pLrbAT5M-"
      },
      "execution_count": null,
      "outputs": []
    },
    {
      "cell_type": "code",
      "source": [
        "mx=gpd.read_file('/content/00mun.shp')"
      ],
      "metadata": {
        "id": "kwo3GiiuUYDH"
      },
      "execution_count": null,
      "outputs": []
    },
    {
      "cell_type": "code",
      "source": [
        "\n",
        "cvm=[]\n",
        "for c in cns.MUN:\n",
        "  if len(str(c))<3:\n",
        "    if len(str(c))==2:\n",
        "      cvm.append('0'+str(c))\n",
        "    elif len(str(c))==1:\n",
        "      cvm.append('00'+str(c))\n",
        "  else:\n",
        "    cvm.append(str(c))\n"
      ],
      "metadata": {
        "id": "O9yLLXTKUg2E"
      },
      "execution_count": null,
      "outputs": []
    },
    {
      "cell_type": "code",
      "source": [
        "cve=[]\n",
        "for c in cns.ENTIDAD:\n",
        "  if len(str(c))<2:\n",
        "    if len(str(c))==1:\n",
        "      cve.append('0'+str(c))\n",
        "  else:\n",
        "    cve.append(str(c))"
      ],
      "metadata": {
        "id": "x8Zxv9MtW78z"
      },
      "execution_count": null,
      "outputs": []
    },
    {
      "cell_type": "code",
      "source": [
        "CVEGEO=[]\n",
        "for i in cns.index:\n",
        "  c=cns.MUN[i]\n",
        "  v=cns.ENTIDAD[i]\n",
        "  if len(str(c))>=3:\n",
        "    if len(str(v))>=2:\n",
        "      CVEGEO.append(str(v)+str(c))\n",
        "    elif len(str(v))==1:\n",
        "      CVEGEO.append('0'+str(v)+str(c))\n",
        "  elif len(str(c))==2:\n",
        "    if len(str(v))>=2:\n",
        "      CVEGEO.append(str(v)+'0'+str(c))\n",
        "    elif len(str(v))==1:\n",
        "      CVEGEO.append('0'+str(v)+'0'+str(c))\n",
        "  else:\n",
        "    if len(str(v))>=2:\n",
        "      CVEGEO.append(str(v)+'00'+str(c))\n",
        "    elif len(str(v))==1:\n",
        "      CVEGEO.append('0'+str(v)+'00'+str(c))\n",
        "\n"
      ],
      "metadata": {
        "id": "Pgx-TCLtXPSP"
      },
      "execution_count": null,
      "outputs": []
    },
    {
      "cell_type": "code",
      "source": [
        "cns['CVEGEO']=CVEGEO"
      ],
      "metadata": {
        "id": "2QmZhGcZUje7"
      },
      "execution_count": null,
      "outputs": []
    },
    {
      "cell_type": "code",
      "source": [
        "D=mx.merge(cns,on='CVEGEO')"
      ],
      "metadata": {
        "id": "t6FSj_rOUt4a"
      },
      "execution_count": null,
      "outputs": []
    },
    {
      "cell_type": "code",
      "source": [
        "mxl=gpd.read_file('/content/00l.shp')"
      ],
      "metadata": {
        "id": "Y1-nyEWicfTc"
      },
      "execution_count": null,
      "outputs": []
    },
    {
      "cell_type": "code",
      "source": [
        "data=pd.read_csv('/content/conjunto_de_datos_concentradohogar_enigh2022_ns.csv')"
      ],
      "metadata": {
        "id": "HZM7Nnl8ZV3C"
      },
      "execution_count": null,
      "outputs": []
    },
    {
      "cell_type": "code",
      "source": [
        "D.loc[D.CVE_ENT=='20'].plot()"
      ],
      "metadata": {
        "id": "aVkClPhIZcTS"
      },
      "execution_count": null,
      "outputs": []
    },
    {
      "cell_type": "code",
      "source": [
        "data=data.rename(columns={'ubica_geo':'CVEGEO'})"
      ],
      "metadata": {
        "id": "BV_p2mb4Zip5"
      },
      "execution_count": null,
      "outputs": []
    },
    {
      "cell_type": "code",
      "source": [
        "data['CVEGEO']=data.ubica_geo.astype('str')"
      ],
      "metadata": {
        "id": "p6bPHpdjdDu7"
      },
      "execution_count": null,
      "outputs": []
    },
    {
      "cell_type": "code",
      "source": [
        "type(data.CVEGEO[0])"
      ],
      "metadata": {
        "id": "deg_INE8dVRz"
      },
      "execution_count": null,
      "outputs": []
    },
    {
      "cell_type": "code",
      "source": [
        "mx.merge(data,on='CVEGEO').plot(column='sexo_jefe',cmap='viridis',legend=True)"
      ],
      "metadata": {
        "id": "SAnyz4YWdgzk"
      },
      "execution_count": null,
      "outputs": []
    },
    {
      "cell_type": "code",
      "source": [],
      "metadata": {
        "id": "sUfvYcL_d4nU"
      },
      "execution_count": null,
      "outputs": []
    }
  ]
}