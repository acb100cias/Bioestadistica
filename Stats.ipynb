{
 "cells": [
  {
   "cell_type": "code",
   "execution_count": 1,
   "id": "c698b954-94dc-450c-8613-1a1682cc4d25",
   "metadata": {
    "tags": []
   },
   "outputs": [],
   "source": [
    "import scipy as sc"
   ]
  },
  {
   "cell_type": "code",
   "execution_count": 2,
   "id": "1f814c52-a9a1-44e9-bc75-843b0f51a24a",
   "metadata": {
    "tags": []
   },
   "outputs": [
    {
     "name": "stderr",
     "output_type": "stream",
     "text": [
      "<ipython-input-2-00c4479f7ee5>:1: DeprecationWarning: scipy.sqrt is deprecated and will be removed in SciPy 2.0.0, use numpy.lib.scimath.sqrt instead\n",
      "  sc.sqrt(1929)\n"
     ]
    },
    {
     "data": {
      "text/plain": [
       "43.9203825119955"
      ]
     },
     "execution_count": 2,
     "metadata": {},
     "output_type": "execute_result"
    }
   ],
   "source": [
    "sc.sqrt(1929)"
   ]
  },
  {
   "cell_type": "code",
   "execution_count": 3,
   "id": "0a4c2467-7e72-475d-b93a-1f75cd1b80a6",
   "metadata": {
    "tags": []
   },
   "outputs": [
    {
     "data": {
      "text/plain": [
       "3.141592653589793"
      ]
     },
     "execution_count": 3,
     "metadata": {},
     "output_type": "execute_result"
    }
   ],
   "source": [
    "sc.pi"
   ]
  },
  {
   "cell_type": "code",
   "execution_count": 4,
   "id": "107d7e23-d865-4316-958d-27f60fb318dc",
   "metadata": {
    "tags": []
   },
   "outputs": [
    {
     "data": {
      "text/plain": [
       "2.718281828459045"
      ]
     },
     "execution_count": 4,
     "metadata": {},
     "output_type": "execute_result"
    }
   ],
   "source": [
    "sc.e"
   ]
  },
  {
   "cell_type": "code",
   "execution_count": 5,
   "id": "5f788a99-c909-45ae-abf9-33ea41aa72de",
   "metadata": {
    "tags": []
   },
   "outputs": [],
   "source": [
    "from scipy import stats as st"
   ]
  },
  {
   "cell_type": "code",
   "execution_count": 7,
   "id": "5c665c2a-b3d5-45f0-b94b-1fafe6f5a2bb",
   "metadata": {
    "tags": []
   },
   "outputs": [
    {
     "data": {
      "text/plain": [
       "array([0.  , 0.  , 0.25, 0.5 , 0.75, 1.  ])"
      ]
     },
     "execution_count": 7,
     "metadata": {},
     "output_type": "execute_result"
    }
   ],
   "source": [
    "st.uniform.cdf([0,1,2,3,4,5],loc=1,scale=4)"
   ]
  },
  {
   "cell_type": "code",
   "execution_count": 24,
   "id": "59719c9e-88e9-490d-91e7-3e2d525d66db",
   "metadata": {
    "tags": []
   },
   "outputs": [],
   "source": [
    "B=st.binom.cdf(range(1000),n=10,p=0.9)"
   ]
  },
  {
   "cell_type": "code",
   "execution_count": 27,
   "id": "ee9cf253-d972-467a-9e37-6ace424f8a98",
   "metadata": {
    "tags": []
   },
   "outputs": [
    {
     "data": {
      "text/plain": [
       "DescribeResult(nobs=1000, minmax=(9.999999999999978e-11, 1.0), mean=0.991, variance=0.008426383096606172, skewness=-10.324207243250703, kurtosis=105.76493039169581)"
      ]
     },
     "execution_count": 27,
     "metadata": {},
     "output_type": "execute_result"
    }
   ],
   "source": [
    "st.describe(B)"
   ]
  },
  {
   "cell_type": "code",
   "execution_count": 28,
   "id": "60b247e3-f3e6-465f-ab38-c0eb0b8eb3cc",
   "metadata": {
    "tags": []
   },
   "outputs": [
    {
     "name": "stderr",
     "output_type": "stream",
     "text": [
      "<ipython-input-28-1096d769b59c>:1: FutureWarning: Unlike other reduction functions (e.g. `skew`, `kurtosis`), the default behavior of `mode` typically preserves the axis it acts along. In SciPy 1.11.0, this behavior will change: the default value of `keepdims` will become False, the `axis` over which the statistic is taken will be eliminated, and the value None will no longer be accepted. Set `keepdims` to True or False to avoid this warning.\n",
      "  st.mode(B)\n"
     ]
    },
    {
     "data": {
      "text/plain": [
       "ModeResult(mode=array([1.]), count=array([990]))"
      ]
     },
     "execution_count": 28,
     "metadata": {},
     "output_type": "execute_result"
    }
   ],
   "source": [
    "st.mode(B)"
   ]
  },
  {
   "cell_type": "code",
   "execution_count": 38,
   "id": "d9d8d9be-3a21-4eca-a0b7-50a7e812e195",
   "metadata": {
    "tags": []
   },
   "outputs": [],
   "source": [
    "N=st.norm.cdf(range(1000000))"
   ]
  },
  {
   "cell_type": "code",
   "execution_count": 39,
   "id": "e30942cb-53d2-4e72-9338-3efb1cde6dfe",
   "metadata": {
    "tags": []
   },
   "outputs": [
    {
     "data": {
      "text/plain": [
       "DescribeResult(nobs=1000000, minmax=(0.5, 1.0), mean=0.9999993172127571, variance=2.7569069082382977e-07, skewness=-891.1962985595147, kurtosis=830644.3147483496)"
      ]
     },
     "execution_count": 39,
     "metadata": {},
     "output_type": "execute_result"
    }
   ],
   "source": [
    "st.describe(N)"
   ]
  },
  {
   "cell_type": "code",
   "execution_count": 40,
   "id": "26764775-4a0e-4fe5-9104-af112598d5e9",
   "metadata": {
    "tags": []
   },
   "outputs": [
    {
     "name": "stderr",
     "output_type": "stream",
     "text": [
      "<ipython-input-40-bb90c3975ffd>:1: FutureWarning: Unlike other reduction functions (e.g. `skew`, `kurtosis`), the default behavior of `mode` typically preserves the axis it acts along. In SciPy 1.11.0, this behavior will change: the default value of `keepdims` will become False, the `axis` over which the statistic is taken will be eliminated, and the value None will no longer be accepted. Set `keepdims` to True or False to avoid this warning.\n",
      "  st.mode(N)\n"
     ]
    },
    {
     "data": {
      "text/plain": [
       "ModeResult(mode=array([1.]), count=array([999991]))"
      ]
     },
     "execution_count": 40,
     "metadata": {},
     "output_type": "execute_result"
    }
   ],
   "source": [
    "st.mode(N)"
   ]
  },
  {
   "cell_type": "code",
   "execution_count": 41,
   "id": "729cc558-992e-4813-846b-68c3a7c584b3",
   "metadata": {
    "tags": []
   },
   "outputs": [
    {
     "data": {
      "text/plain": [
       "-891.1962985595147"
      ]
     },
     "execution_count": 41,
     "metadata": {},
     "output_type": "execute_result"
    }
   ],
   "source": [
    "st.skew(N)"
   ]
  },
  {
   "cell_type": "code",
   "execution_count": 42,
   "id": "8ed937df-60d0-4c7e-b279-c7e5c2b9dd23",
   "metadata": {
    "tags": []
   },
   "outputs": [],
   "source": [
    "import numpy.random as rd"
   ]
  },
  {
   "cell_type": "code",
   "execution_count": 45,
   "id": "967e522b-0c47-4d31-b0f1-12e6d28edb4c",
   "metadata": {
    "tags": []
   },
   "outputs": [],
   "source": [
    "N1=rd.normal(size=10000000)"
   ]
  },
  {
   "cell_type": "code",
   "execution_count": 46,
   "id": "8fa62c16-797c-4414-9b95-ed5e3168b04e",
   "metadata": {
    "tags": []
   },
   "outputs": [
    {
     "data": {
      "text/plain": [
       "DescribeResult(nobs=10000000, minmax=(-5.0152461470143805, 5.619144101778691), mean=-0.00024567416867645776, variance=0.9994688188166434, skewness=-0.001324136489870235, kurtosis=0.001355610044112332)"
      ]
     },
     "execution_count": 46,
     "metadata": {},
     "output_type": "execute_result"
    }
   ],
   "source": [
    "st.describe(N1)"
   ]
  },
  {
   "cell_type": "raw",
   "id": "51f4f5b6-66fe-4ee5-8e7a-21b966534b94",
   "metadata": {},
   "source": []
  },
  {
   "cell_type": "markdown",
   "id": "bfd8971f-f977-4857-8443-5a9ef01edb60",
   "metadata": {
    "tags": []
   },
   "source": [
    "# st.var(N1)"
   ]
  },
  {
   "cell_type": "code",
   "execution_count": 49,
   "id": "d44f10be-1126-46d0-9552-db1e0a40ac5a",
   "metadata": {
    "tags": []
   },
   "outputs": [
    {
     "data": {
      "text/plain": [
       "0.9994688188166434"
      ]
     },
     "execution_count": 49,
     "metadata": {},
     "output_type": "execute_result"
    }
   ],
   "source": [
    "st.tvar(N1)"
   ]
  },
  {
   "cell_type": "code",
   "execution_count": 58,
   "id": "6aae4eb9-23e1-4e95-b3ac-db9f227d6e0d",
   "metadata": {
    "tags": []
   },
   "outputs": [],
   "source": [
    "data=[0.02, 0.5,0.5,0.5, 0.01, 0.33, 0.51, 1.0, 0.03,0.01,0.01]"
   ]
  },
  {
   "cell_type": "code",
   "execution_count": 59,
   "id": "ea7c1c1a-8baf-4913-9fd4-515d04e4a828",
   "metadata": {
    "tags": []
   },
   "outputs": [
    {
     "data": {
      "text/plain": [
       "DescribeResult(nobs=11, minmax=(0.01, 1.0), mean=0.31090909090909086, variance=0.10572909090909091, skewness=0.6921188126549518, kurtosis=-0.35426541613117957)"
      ]
     },
     "execution_count": 59,
     "metadata": {},
     "output_type": "execute_result"
    }
   ],
   "source": [
    "st.describe(data)"
   ]
  },
  {
   "cell_type": "code",
   "execution_count": 60,
   "id": "d1bad0f6-e501-48e6-a43c-0546056fd7e7",
   "metadata": {
    "tags": []
   },
   "outputs": [
    {
     "name": "stderr",
     "output_type": "stream",
     "text": [
      "<ipython-input-60-14bfd2062992>:1: FutureWarning: Unlike other reduction functions (e.g. `skew`, `kurtosis`), the default behavior of `mode` typically preserves the axis it acts along. In SciPy 1.11.0, this behavior will change: the default value of `keepdims` will become False, the `axis` over which the statistic is taken will be eliminated, and the value None will no longer be accepted. Set `keepdims` to True or False to avoid this warning.\n",
      "  st.mode(data)\n"
     ]
    },
    {
     "data": {
      "text/plain": [
       "ModeResult(mode=array([0.01]), count=array([3]))"
      ]
     },
     "execution_count": 60,
     "metadata": {},
     "output_type": "execute_result"
    }
   ],
   "source": [
    "st.mode(data)"
   ]
  },
  {
   "cell_type": "code",
   "execution_count": 64,
   "id": "8de117d1-b343-4164-b84c-9ed46362b030",
   "metadata": {
    "tags": []
   },
   "outputs": [
    {
     "data": {
      "text/plain": [
       "2.9981673300041605"
      ]
     },
     "execution_count": 64,
     "metadata": {},
     "output_type": "execute_result"
    }
   ],
   "source": [
    "st.moment(N1,4)"
   ]
  },
  {
   "cell_type": "code",
   "execution_count": 71,
   "id": "f6a9f900-d31e-40dd-a7a5-bec0ca8f48b2",
   "metadata": {
    "tags": []
   },
   "outputs": [
    {
     "data": {
      "text/plain": [
       "array([ 0.04369478, -1.11825778, -0.47139921, ..., -0.2657591 ,\n",
       "        0.24471954, -0.14031426])"
      ]
     },
     "execution_count": 71,
     "metadata": {},
     "output_type": "execute_result"
    }
   ],
   "source": [
    "N1"
   ]
  },
  {
   "cell_type": "code",
   "execution_count": null,
   "id": "fc0a1453-4a17-4c4b-b25f-31846771984d",
   "metadata": {},
   "outputs": [],
   "source": []
  }
 ],
 "metadata": {
  "kernelspec": {
   "display_name": "Python 3",
   "language": "python",
   "name": "python3"
  },
  "language_info": {
   "codemirror_mode": {
    "name": "ipython",
    "version": 3
   },
   "file_extension": ".py",
   "mimetype": "text/x-python",
   "name": "python",
   "nbconvert_exporter": "python",
   "pygments_lexer": "ipython3",
   "version": "3.9.2"
  }
 },
 "nbformat": 4,
 "nbformat_minor": 5
}
