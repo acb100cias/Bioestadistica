{
 "cells": [
  {
   "cell_type": "code",
   "execution_count": 1,
   "id": "56422f1f-685a-4170-b6b6-8f11fc6433a9",
   "metadata": {
    "tags": []
   },
   "outputs": [],
   "source": [
    "from numpy import *"
   ]
  },
  {
   "cell_type": "code",
   "execution_count": 11,
   "id": "e0dc6ecf-f9e1-44a0-8034-9ba287c61806",
   "metadata": {
    "tags": []
   },
   "outputs": [],
   "source": [
    "X0=random.random(10000)"
   ]
  },
  {
   "cell_type": "code",
   "execution_count": 12,
   "id": "3bf55d8e-3244-44db-b451-9635121e0095",
   "metadata": {
    "tags": []
   },
   "outputs": [
    {
     "data": {
      "text/plain": [
       "0.5003526907904603"
      ]
     },
     "execution_count": 12,
     "metadata": {},
     "output_type": "execute_result"
    }
   ],
   "source": [
    "X0.mean()"
   ]
  },
  {
   "cell_type": "code",
   "execution_count": 13,
   "id": "17c76cbe-0360-480d-975a-b5b64083e0df",
   "metadata": {
    "tags": []
   },
   "outputs": [
    {
     "data": {
      "text/plain": [
       "0.5019017523898389"
      ]
     },
     "execution_count": 13,
     "metadata": {},
     "output_type": "execute_result"
    }
   ],
   "source": [
    "median(X0)"
   ]
  },
  {
   "cell_type": "code",
   "execution_count": 22,
   "id": "10e045bd-5898-4b5e-b45e-f303b612911d",
   "metadata": {
    "tags": []
   },
   "outputs": [],
   "source": [
    "X1=random.randint(2,size=100000)"
   ]
  },
  {
   "cell_type": "code",
   "execution_count": 24,
   "id": "adb7b2b6-2109-4101-91a7-a2ad9208fcc4",
   "metadata": {
    "tags": []
   },
   "outputs": [
    {
     "data": {
      "text/plain": [
       "0.5003"
      ]
     },
     "execution_count": 24,
     "metadata": {},
     "output_type": "execute_result"
    }
   ],
   "source": [
    "X1.mean()"
   ]
  },
  {
   "cell_type": "code",
   "execution_count": 25,
   "id": "36bf2349-7f45-434a-91ae-80cf0cb11a53",
   "metadata": {
    "tags": []
   },
   "outputs": [
    {
     "data": {
      "text/plain": [
       "1.0"
      ]
     },
     "execution_count": 25,
     "metadata": {},
     "output_type": "execute_result"
    }
   ],
   "source": [
    "median(X1)"
   ]
  },
  {
   "cell_type": "code",
   "execution_count": 29,
   "id": "722ec4d5-e5f0-4dad-acba-78943ad18209",
   "metadata": {
    "tags": []
   },
   "outputs": [
    {
     "data": {
      "text/plain": [
       "49970"
      ]
     },
     "execution_count": 29,
     "metadata": {},
     "output_type": "execute_result"
    }
   ],
   "source": [
    "X1.tolist().count(0)"
   ]
  },
  {
   "cell_type": "code",
   "execution_count": 46,
   "id": "4d31456a-abdd-4caa-a532-64c26a980b39",
   "metadata": {
    "tags": []
   },
   "outputs": [],
   "source": [
    "def moda(X):\n",
    "    a=X.min()\n",
    "    b=X.max()\n",
    "    L=[]\n",
    "    for i in range(a,b+1):\n",
    "        L.append((i,X.tolist().count(i)))\n",
    "    return max(L)[0]\n",
    "        "
   ]
  },
  {
   "cell_type": "code",
   "execution_count": 38,
   "id": "2a9c0826-3f60-46be-a1b1-9cac3887aae6",
   "metadata": {
    "tags": []
   },
   "outputs": [],
   "source": [
    "a=X1.min()\n",
    "b=X1.max()\n",
    "L=[]\n",
    "for i in range(a,b+1):\n",
    "    L.append((i,X1.tolist().count(i)))"
   ]
  },
  {
   "cell_type": "code",
   "execution_count": 45,
   "id": "5ed6ac8c-67e1-4083-bbda-552a8c767e37",
   "metadata": {
    "tags": []
   },
   "outputs": [
    {
     "data": {
      "text/plain": [
       "1"
      ]
     },
     "execution_count": 45,
     "metadata": {},
     "output_type": "execute_result"
    }
   ],
   "source": [
    "max(L)[0]"
   ]
  },
  {
   "cell_type": "code",
   "execution_count": 47,
   "id": "fbef8eb5-e7d3-4ce6-887e-535ac39df052",
   "metadata": {
    "tags": []
   },
   "outputs": [
    {
     "data": {
      "text/plain": [
       "1"
      ]
     },
     "execution_count": 47,
     "metadata": {},
     "output_type": "execute_result"
    }
   ],
   "source": [
    "moda(X1)"
   ]
  },
  {
   "cell_type": "code",
   "execution_count": 48,
   "id": "c71675f7-b69b-4c8d-909a-cc14ed665ec5",
   "metadata": {
    "tags": []
   },
   "outputs": [],
   "source": [
    "E=random.randint(18,35,size=1000000)"
   ]
  },
  {
   "cell_type": "code",
   "execution_count": 50,
   "id": "2086bacb-3dd9-4aa4-9e4a-3cb5f763186b",
   "metadata": {
    "tags": []
   },
   "outputs": [
    {
     "data": {
      "text/plain": [
       "34"
      ]
     },
     "execution_count": 50,
     "metadata": {},
     "output_type": "execute_result"
    }
   ],
   "source": [
    "moda(E)"
   ]
  },
  {
   "cell_type": "code",
   "execution_count": 51,
   "id": "c08cd789-25d9-467c-85e7-496107002674",
   "metadata": {
    "tags": []
   },
   "outputs": [
    {
     "ename": "TypeError",
     "evalue": "'numpy.float64' object cannot be interpreted as an integer",
     "output_type": "error",
     "traceback": [
      "\u001b[0;31m---------------------------------------------------------------------------\u001b[0m",
      "\u001b[0;31mTypeError\u001b[0m                                 Traceback (most recent call last)",
      "\u001b[0;32m<ipython-input-51-bf4db2ff6e23>\u001b[0m in \u001b[0;36m<module>\u001b[0;34m\u001b[0m\n\u001b[0;32m----> 1\u001b[0;31m \u001b[0mmoda\u001b[0m\u001b[0;34m(\u001b[0m\u001b[0mX0\u001b[0m\u001b[0;34m)\u001b[0m\u001b[0;34m\u001b[0m\u001b[0;34m\u001b[0m\u001b[0m\n\u001b[0m",
      "\u001b[0;32m<ipython-input-46-8bea50ed3887>\u001b[0m in \u001b[0;36mmoda\u001b[0;34m(X)\u001b[0m\n\u001b[1;32m      3\u001b[0m     \u001b[0mb\u001b[0m\u001b[0;34m=\u001b[0m\u001b[0mX\u001b[0m\u001b[0;34m.\u001b[0m\u001b[0mmax\u001b[0m\u001b[0;34m(\u001b[0m\u001b[0;34m)\u001b[0m\u001b[0;34m\u001b[0m\u001b[0;34m\u001b[0m\u001b[0m\n\u001b[1;32m      4\u001b[0m     \u001b[0mL\u001b[0m\u001b[0;34m=\u001b[0m\u001b[0;34m[\u001b[0m\u001b[0;34m]\u001b[0m\u001b[0;34m\u001b[0m\u001b[0;34m\u001b[0m\u001b[0m\n\u001b[0;32m----> 5\u001b[0;31m     \u001b[0;32mfor\u001b[0m \u001b[0mi\u001b[0m \u001b[0;32min\u001b[0m \u001b[0mrange\u001b[0m\u001b[0;34m(\u001b[0m\u001b[0ma\u001b[0m\u001b[0;34m,\u001b[0m\u001b[0mb\u001b[0m\u001b[0;34m+\u001b[0m\u001b[0;36m1\u001b[0m\u001b[0;34m)\u001b[0m\u001b[0;34m:\u001b[0m\u001b[0;34m\u001b[0m\u001b[0;34m\u001b[0m\u001b[0m\n\u001b[0m\u001b[1;32m      6\u001b[0m         \u001b[0mL\u001b[0m\u001b[0;34m.\u001b[0m\u001b[0mappend\u001b[0m\u001b[0;34m(\u001b[0m\u001b[0;34m(\u001b[0m\u001b[0mi\u001b[0m\u001b[0;34m,\u001b[0m\u001b[0mX\u001b[0m\u001b[0;34m.\u001b[0m\u001b[0mtolist\u001b[0m\u001b[0;34m(\u001b[0m\u001b[0;34m)\u001b[0m\u001b[0;34m.\u001b[0m\u001b[0mcount\u001b[0m\u001b[0;34m(\u001b[0m\u001b[0mi\u001b[0m\u001b[0;34m)\u001b[0m\u001b[0;34m)\u001b[0m\u001b[0;34m)\u001b[0m\u001b[0;34m\u001b[0m\u001b[0;34m\u001b[0m\u001b[0m\n\u001b[1;32m      7\u001b[0m     \u001b[0;32mreturn\u001b[0m \u001b[0mmax\u001b[0m\u001b[0;34m(\u001b[0m\u001b[0mL\u001b[0m\u001b[0;34m)\u001b[0m\u001b[0;34m[\u001b[0m\u001b[0;36m0\u001b[0m\u001b[0;34m]\u001b[0m\u001b[0;34m\u001b[0m\u001b[0;34m\u001b[0m\u001b[0m\n",
      "\u001b[0;31mTypeError\u001b[0m: 'numpy.float64' object cannot be interpreted as an integer"
     ]
    }
   ],
   "source": [
    "moda(X0)"
   ]
  },
  {
   "cell_type": "code",
   "execution_count": 52,
   "id": "69652993-623b-4432-a309-88bd9a5d8348",
   "metadata": {
    "tags": []
   },
   "outputs": [],
   "source": [
    "def moda(X):\n",
    "    a=X.min()\n",
    "    b=X.max()\n",
    "    L=[]\n",
    "    for i in arange(a,b+0.1):\n",
    "        L.append((i,X.tolist().count(i)))\n",
    "    return max(L)[0]\n"
   ]
  },
  {
   "cell_type": "code",
   "execution_count": 55,
   "id": "78613bb3-a0aa-4375-a5a6-c0c08752e372",
   "metadata": {
    "tags": []
   },
   "outputs": [
    {
     "data": {
      "text/plain": [
       "1.0001666851941393"
      ]
     },
     "execution_count": 55,
     "metadata": {},
     "output_type": "execute_result"
    }
   ],
   "source": [
    "moda(X0)"
   ]
  },
  {
   "cell_type": "code",
   "execution_count": 61,
   "id": "a2ed42dc-cdfe-436b-b022-768194edc670",
   "metadata": {
    "tags": []
   },
   "outputs": [
    {
     "ename": "TypeError",
     "evalue": "Cannot cast array data from dtype('float64') to dtype('int64') according to the rule 'safe'",
     "output_type": "error",
     "traceback": [
      "\u001b[0;31m---------------------------------------------------------------------------\u001b[0m",
      "\u001b[0;31mTypeError\u001b[0m                                 Traceback (most recent call last)",
      "\u001b[0;32m<ipython-input-61-e8b2c24212fa>\u001b[0m in \u001b[0;36m<module>\u001b[0;34m\u001b[0m\n\u001b[0;32m----> 1\u001b[0;31m \u001b[0mbincount\u001b[0m\u001b[0;34m(\u001b[0m\u001b[0mX0\u001b[0m\u001b[0;34m)\u001b[0m\u001b[0;34m\u001b[0m\u001b[0;34m\u001b[0m\u001b[0m\n\u001b[0m",
      "\u001b[0;32m/usr/local/lib/python3.9/dist-packages/numpy/core/overrides.py\u001b[0m in \u001b[0;36mbincount\u001b[0;34m(*args, **kwargs)\u001b[0m\n",
      "\u001b[0;31mTypeError\u001b[0m: Cannot cast array data from dtype('float64') to dtype('int64') according to the rule 'safe'"
     ]
    }
   ],
   "source": [
    "bincount(X0)"
   ]
  },
  {
   "cell_type": "code",
   "execution_count": 65,
   "id": "5610be5f-848e-42ce-8e6c-6e3911b050f3",
   "metadata": {
    "tags": []
   },
   "outputs": [
    {
     "data": {
      "text/plain": [
       "0.08374484054331002"
      ]
     },
     "execution_count": 65,
     "metadata": {},
     "output_type": "execute_result"
    }
   ],
   "source": [
    "X0.var()"
   ]
  },
  {
   "cell_type": "code",
   "execution_count": 66,
   "id": "70ea4ae5-8045-4ce0-a8c6-d1286b55ccf1",
   "metadata": {
    "tags": []
   },
   "outputs": [
    {
     "data": {
      "text/plain": [
       "0.2893870082490056"
      ]
     },
     "execution_count": 66,
     "metadata": {},
     "output_type": "execute_result"
    }
   ],
   "source": [
    "X0.std()"
   ]
  },
  {
   "cell_type": "code",
   "execution_count": 68,
   "id": "7039e817-1b13-49dc-ab0a-a63948a59134",
   "metadata": {
    "tags": []
   },
   "outputs": [
    {
     "data": {
      "text/plain": [
       "0.49999990999999194"
      ]
     },
     "execution_count": 68,
     "metadata": {},
     "output_type": "execute_result"
    }
   ],
   "source": [
    "X1.std()"
   ]
  },
  {
   "cell_type": "code",
   "execution_count": 69,
   "id": "cf34f5a1-875e-4c81-8396-be4161e0388a",
   "metadata": {
    "tags": []
   },
   "outputs": [
    {
     "data": {
      "text/plain": [
       "4.900720801553991"
      ]
     },
     "execution_count": 69,
     "metadata": {},
     "output_type": "execute_result"
    }
   ],
   "source": [
    "E.std()"
   ]
  },
  {
   "cell_type": "code",
   "execution_count": 94,
   "id": "1c7bfb96-ed9e-4699-9689-7a665f6d1c44",
   "metadata": {
    "tags": []
   },
   "outputs": [],
   "source": [
    "N=random.normal(0,1,size=10000000)"
   ]
  },
  {
   "cell_type": "code",
   "execution_count": 95,
   "id": "89582c45-37df-4c51-8a1b-d9b179ee1a3f",
   "metadata": {
    "tags": []
   },
   "outputs": [
    {
     "data": {
      "text/plain": [
       "4.61"
      ]
     },
     "execution_count": 95,
     "metadata": {},
     "output_type": "execute_result"
    }
   ],
   "source": [
    "moda(N).round(2)"
   ]
  },
  {
   "cell_type": "code",
   "execution_count": 101,
   "id": "d248a564-5d10-4515-9766-a482b64b8a0c",
   "metadata": {
    "tags": []
   },
   "outputs": [
    {
     "data": {
      "text/plain": [
       "0.0001"
      ]
     },
     "execution_count": 101,
     "metadata": {},
     "output_type": "execute_result"
    }
   ],
   "source": [
    "median(N).round(4)"
   ]
  },
  {
   "cell_type": "code",
   "execution_count": 100,
   "id": "4081d5e2-b9a1-4c24-a631-8dcc45a6d717",
   "metadata": {
    "tags": []
   },
   "outputs": [
    {
     "data": {
      "text/plain": [
       "0.0001"
      ]
     },
     "execution_count": 100,
     "metadata": {},
     "output_type": "execute_result"
    }
   ],
   "source": [
    "N.mean().round(4)"
   ]
  },
  {
   "cell_type": "code",
   "execution_count": 102,
   "id": "367a671d-4583-438a-aee7-098ddd4c601b",
   "metadata": {
    "tags": []
   },
   "outputs": [
    {
     "data": {
      "text/plain": [
       "1.0002"
      ]
     },
     "execution_count": 102,
     "metadata": {},
     "output_type": "execute_result"
    }
   ],
   "source": [
    "N.var().round(4)"
   ]
  },
  {
   "cell_type": "code",
   "execution_count": 103,
   "id": "c3d12d07-929a-4898-b16f-b3664e8903e8",
   "metadata": {
    "tags": []
   },
   "outputs": [
    {
     "data": {
      "text/plain": [
       "1.0001"
      ]
     },
     "execution_count": 103,
     "metadata": {},
     "output_type": "execute_result"
    }
   ],
   "source": [
    "N.std().round(4)"
   ]
  },
  {
   "cell_type": "code",
   "execution_count": null,
   "id": "51b9ad14-71a4-4484-ac47-49c775d292be",
   "metadata": {},
   "outputs": [],
   "source": []
  }
 ],
 "metadata": {
  "kernelspec": {
   "display_name": "Python 3",
   "language": "python",
   "name": "python3"
  },
  "language_info": {
   "codemirror_mode": {
    "name": "ipython",
    "version": 3
   },
   "file_extension": ".py",
   "mimetype": "text/x-python",
   "name": "python",
   "nbconvert_exporter": "python",
   "pygments_lexer": "ipython3",
   "version": "3.9.2"
  }
 },
 "nbformat": 4,
 "nbformat_minor": 5
}
