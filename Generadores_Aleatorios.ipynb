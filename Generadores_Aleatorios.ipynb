{
  "nbformat": 4,
  "nbformat_minor": 0,
  "metadata": {
    "colab": {
      "private_outputs": true,
      "provenance": [],
      "authorship_tag": "ABX9TyPu6PLxGDV1c6Yz88oKmNUH",
      "include_colab_link": true
    },
    "kernelspec": {
      "name": "python3",
      "display_name": "Python 3"
    },
    "language_info": {
      "name": "python"
    }
  },
  "cells": [
    {
      "cell_type": "markdown",
      "metadata": {
        "id": "view-in-github",
        "colab_type": "text"
      },
      "source": [
        "<a href=\"https://colab.research.google.com/github/acb100cias/Bioestadistica/blob/main/Generadores_Aleatorios.ipynb\" target=\"_parent\"><img src=\"https://colab.research.google.com/assets/colab-badge.svg\" alt=\"Open In Colab\"/></a>"
      ]
    },
    {
      "cell_type": "code",
      "execution_count": null,
      "metadata": {
        "id": "lr5Xps_xJAYy"
      },
      "outputs": [],
      "source": [
        "import numpy as np\n",
        "import matplotlib.pyplot as plt"
      ]
    },
    {
      "cell_type": "code",
      "source": [
        "X=np.random.random(10000)"
      ],
      "metadata": {
        "id": "CuPDh-eDJRC_"
      },
      "execution_count": null,
      "outputs": []
    },
    {
      "cell_type": "code",
      "source": [
        "plt.plot(X,'.')"
      ],
      "metadata": {
        "id": "fIIHKUBHJd2O"
      },
      "execution_count": null,
      "outputs": []
    },
    {
      "cell_type": "code",
      "source": [
        "X1=np.random.normal(size=10000)"
      ],
      "metadata": {
        "id": "mhYyMYm6KIRu"
      },
      "execution_count": null,
      "outputs": []
    },
    {
      "cell_type": "code",
      "source": [
        "plt.hist(X1,bins=1000)"
      ],
      "metadata": {
        "id": "Z16Tx8goK5-W"
      },
      "execution_count": null,
      "outputs": []
    },
    {
      "cell_type": "code",
      "source": [
        "plt.hist(X,bins=1000)"
      ],
      "metadata": {
        "id": "fV-4DjOCLGxn"
      },
      "execution_count": null,
      "outputs": []
    },
    {
      "cell_type": "code",
      "source": [
        "import seaborn as sns"
      ],
      "metadata": {
        "id": "ezH0edPBLLGH"
      },
      "execution_count": null,
      "outputs": []
    },
    {
      "cell_type": "code",
      "source": [
        "sns.distplot(X)"
      ],
      "metadata": {
        "id": "UBR6v_cwLmlf"
      },
      "execution_count": null,
      "outputs": []
    },
    {
      "cell_type": "code",
      "source": [
        "sns.distplot(X1)"
      ],
      "metadata": {
        "id": "nCn7XwziLpl_"
      },
      "execution_count": null,
      "outputs": []
    },
    {
      "cell_type": "code",
      "source": [
        "X2=np.random.exponential(scale=0.01,size=10000)"
      ],
      "metadata": {
        "id": "K8ggF_GzLwuv"
      },
      "execution_count": null,
      "outputs": []
    },
    {
      "cell_type": "code",
      "source": [
        "sns.distplot(X2)"
      ],
      "metadata": {
        "id": "D1WOWDjtMGcP"
      },
      "execution_count": null,
      "outputs": []
    },
    {
      "cell_type": "code",
      "source": [
        "X3=np.random.binomial(n=10,p=0.25,size=10000)"
      ],
      "metadata": {
        "id": "pP-4CEfRMMhX"
      },
      "execution_count": null,
      "outputs": []
    },
    {
      "cell_type": "code",
      "source": [
        "sns.distplot(X3)"
      ],
      "metadata": {
        "id": "rMlRdaPvNL-A"
      },
      "execution_count": null,
      "outputs": []
    },
    {
      "cell_type": "code",
      "source": [
        "sns.distplot(np.random.poisson(lam=10,size=10000))"
      ],
      "metadata": {
        "id": "oX_CoQgmNrRw"
      },
      "execution_count": null,
      "outputs": []
    },
    {
      "cell_type": "code",
      "source": [
        "sns.distplot(np.random.pareto(a=10,size=10000))"
      ],
      "metadata": {
        "id": "k2YdVBWkOLPQ"
      },
      "execution_count": null,
      "outputs": []
    },
    {
      "cell_type": "code",
      "source": [
        "sns.distplot(np.random.power(0.001,size=10000))"
      ],
      "metadata": {
        "id": "vCaAF1ueOXIQ"
      },
      "execution_count": null,
      "outputs": []
    },
    {
      "cell_type": "code",
      "source": [],
      "metadata": {
        "id": "jrD2dDCrOprI"
      },
      "execution_count": null,
      "outputs": []
    }
  ]
}