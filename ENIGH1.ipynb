{
  "nbformat": 4,
  "nbformat_minor": 0,
  "metadata": {
    "colab": {
      "private_outputs": true,
      "provenance": [],
      "authorship_tag": "ABX9TyN5Ut+zbe7g4g00Rfuw3KcT",
      "include_colab_link": true
    },
    "kernelspec": {
      "name": "python3",
      "display_name": "Python 3"
    },
    "language_info": {
      "name": "python"
    }
  },
  "cells": [
    {
      "cell_type": "markdown",
      "metadata": {
        "id": "view-in-github",
        "colab_type": "text"
      },
      "source": [
        "<a href=\"https://colab.research.google.com/github/acb100cias/Bioestadistica/blob/main/ENIGH1.ipynb\" target=\"_parent\"><img src=\"https://colab.research.google.com/assets/colab-badge.svg\" alt=\"Open In Colab\"/></a>"
      ]
    },
    {
      "cell_type": "code",
      "execution_count": null,
      "metadata": {
        "id": "YaDbUnzYhA8Y"
      },
      "outputs": [],
      "source": [
        "import numpy as np\n",
        "import pandas as pd\n",
        "import seaborn as sbs\n",
        "import matplotlib.pyplot as plt\n"
      ]
    },
    {
      "cell_type": "code",
      "source": [
        "e1=pd.read_csv('/content/conjunto_de_datos_concentradohogar_enigh2022_ns.csv')"
      ],
      "metadata": {
        "id": "rEByLN3UjA5J"
      },
      "execution_count": null,
      "outputs": []
    },
    {
      "cell_type": "code",
      "source": [
        "len(e1)"
      ],
      "metadata": {
        "id": "fgKl3Lz4je5R"
      },
      "execution_count": null,
      "outputs": []
    },
    {
      "cell_type": "code",
      "source": [
        "e1.keys().values"
      ],
      "metadata": {
        "id": "ldd-SUNZjqVl"
      },
      "execution_count": null,
      "outputs": []
    },
    {
      "cell_type": "code",
      "source": [
        "e1.est_socio"
      ],
      "metadata": {
        "id": "nsh83W69jzrM"
      },
      "execution_count": null,
      "outputs": []
    },
    {
      "cell_type": "code",
      "source": [
        "pd.read_csv('/content/diccionario_datos_concentradohogar_enigh2022_ns.csv')"
      ],
      "metadata": {
        "id": "iX12uUXHkLcp"
      },
      "execution_count": null,
      "outputs": []
    },
    {
      "cell_type": "code",
      "source": [
        "I1=pd.read_csv('/content/AGEEML_202410111633945.csv',encoding='latin1')"
      ],
      "metadata": {
        "id": "fc-KpcAmlPVH"
      },
      "execution_count": null,
      "outputs": []
    },
    {
      "cell_type": "code",
      "source": [
        "type(I1['CVEGEO'][0])"
      ],
      "metadata": {
        "id": "oalOmqVinX2L"
      },
      "execution_count": null,
      "outputs": []
    },
    {
      "cell_type": "code",
      "source": [
        "np.round(I1['CVEGEO'][0]/10000).astype('int')"
      ],
      "metadata": {
        "id": "c9vJ8UDJnoSg"
      },
      "execution_count": null,
      "outputs": []
    },
    {
      "cell_type": "code",
      "source": [
        "ubicageo=np.round(I1['CVEGEO']/10000).astype('int')"
      ],
      "metadata": {
        "id": "t7nr73PAn3mI"
      },
      "execution_count": null,
      "outputs": []
    },
    {
      "cell_type": "code",
      "source": [
        "I1"
      ],
      "metadata": {
        "id": "AQcIAs98oTb6"
      },
      "execution_count": null,
      "outputs": []
    },
    {
      "cell_type": "code",
      "source": [
        "T1=I1.filter(['NOM_ENT','NOM_MUN'])"
      ],
      "metadata": {
        "id": "rvu__CGElirE"
      },
      "execution_count": null,
      "outputs": []
    },
    {
      "cell_type": "code",
      "source": [
        "T1['ubica_geo']=ubicageo"
      ],
      "metadata": {
        "id": "KPHotkvcnKV8"
      },
      "execution_count": null,
      "outputs": []
    },
    {
      "cell_type": "code",
      "source": [
        "T1=T1.drop_duplicates()"
      ],
      "metadata": {
        "id": "rh2KjcgeogVf"
      },
      "execution_count": null,
      "outputs": []
    },
    {
      "cell_type": "code",
      "source": [
        "T1.merge(e1)"
      ],
      "metadata": {
        "id": "uZHq1eQBp-sk"
      },
      "execution_count": null,
      "outputs": []
    },
    {
      "cell_type": "code",
      "source": [
        "e2=e1.merge(T1)"
      ],
      "metadata": {
        "id": "8SXAtpoxsJtS"
      },
      "execution_count": null,
      "outputs": []
    },
    {
      "cell_type": "code",
      "source": [
        "sbs.displot(e2.ing_cor)"
      ],
      "metadata": {
        "id": "P0g4-BOasP3P"
      },
      "execution_count": null,
      "outputs": []
    },
    {
      "cell_type": "code",
      "source": [
        "sbs.histplot(e2.ing_cor)"
      ],
      "metadata": {
        "id": "K2M7VjDksiv5"
      },
      "execution_count": null,
      "outputs": []
    },
    {
      "cell_type": "code",
      "source": [
        "e2.ing_cor.mean()"
      ],
      "metadata": {
        "id": "xQnut1EDtAm1"
      },
      "execution_count": null,
      "outputs": []
    },
    {
      "cell_type": "code",
      "source": [
        "e2.ing_cor.median()"
      ],
      "metadata": {
        "id": "177RbDbgtLq-"
      },
      "execution_count": null,
      "outputs": []
    },
    {
      "cell_type": "code",
      "source": [
        "e2.ing_cor.mode()"
      ],
      "metadata": {
        "id": "DTKzxQKutkvB"
      },
      "execution_count": null,
      "outputs": []
    },
    {
      "cell_type": "code",
      "source": [],
      "metadata": {
        "id": "_ujfj5NetrCv"
      },
      "execution_count": null,
      "outputs": []
    }
  ]
}