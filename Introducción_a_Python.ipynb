{
  "nbformat": 4,
  "nbformat_minor": 0,
  "metadata": {
    "colab": {
      "private_outputs": true,
      "provenance": [],
      "toc_visible": true,
      "authorship_tag": "ABX9TyNJc10Xfl9xMIyl0k+4WjPC",
      "include_colab_link": true
    },
    "kernelspec": {
      "name": "python3",
      "display_name": "Python 3"
    },
    "language_info": {
      "name": "python"
    }
  },
  "cells": [
    {
      "cell_type": "markdown",
      "metadata": {
        "id": "view-in-github",
        "colab_type": "text"
      },
      "source": [
        "<a href=\"https://colab.research.google.com/github/acb100cias/Bioestadistica/blob/main/Introducci%C3%B3n_a_Python.ipynb\" target=\"_parent\"><img src=\"https://colab.research.google.com/assets/colab-badge.svg\" alt=\"Open In Colab\"/></a>"
      ]
    },
    {
      "cell_type": "code",
      "execution_count": null,
      "metadata": {
        "id": "r3DJdWbf_4q8"
      },
      "outputs": [],
      "source": [
        "2362374662+553616717"
      ]
    },
    {
      "cell_type": "code",
      "source": [
        "18291192*2616725"
      ],
      "metadata": {
        "id": "_XnP5hrUAzag"
      },
      "execution_count": null,
      "outputs": []
    },
    {
      "cell_type": "code",
      "source": [
        "25667188**20"
      ],
      "metadata": {
        "id": "UC9HZw87A2Dv"
      },
      "execution_count": null,
      "outputs": []
    },
    {
      "cell_type": "code",
      "source": [
        "0.00000127**20"
      ],
      "metadata": {
        "id": "or60b4_PA4ar"
      },
      "execution_count": null,
      "outputs": []
    },
    {
      "cell_type": "code",
      "source": [
        "727819002**0.5"
      ],
      "metadata": {
        "id": "S2B_32JDA7sj"
      },
      "execution_count": null,
      "outputs": []
    },
    {
      "cell_type": "code",
      "source": [
        "type(7839183918374918237)"
      ],
      "metadata": {
        "id": "IlegzVugBB-q"
      },
      "execution_count": null,
      "outputs": []
    },
    {
      "cell_type": "code",
      "source": [
        "type(81928127938239.)"
      ],
      "metadata": {
        "id": "eTFlqomNBabT"
      },
      "execution_count": null,
      "outputs": []
    },
    {
      "cell_type": "code",
      "source": [
        "type((1,2))"
      ],
      "metadata": {
        "id": "ycehUWV3BeEb"
      },
      "execution_count": null,
      "outputs": []
    },
    {
      "cell_type": "code",
      "source": [
        "type([1,2,3,4,5,6,7,8,9,\"hola\",[['hola']]])"
      ],
      "metadata": {
        "id": "zATnBQljBok2"
      },
      "execution_count": null,
      "outputs": []
    },
    {
      "cell_type": "code",
      "source": [
        "{'Nombre':['arturo','ana'],'Edad':[24,25]}"
      ],
      "metadata": {
        "id": "bVak6s6gBuUI"
      },
      "execution_count": null,
      "outputs": []
    },
    {
      "cell_type": "code",
      "source": [
        "L=[1,2,3,4,5,6,7,8,9,1,1,1,1,1,1]"
      ],
      "metadata": {
        "id": "7Jwd7kjDCFAb"
      },
      "execution_count": null,
      "outputs": []
    },
    {
      "cell_type": "code",
      "source": [
        "L.append('hola')"
      ],
      "metadata": {
        "id": "jNoO16NYCNj1"
      },
      "execution_count": null,
      "outputs": []
    },
    {
      "cell_type": "code",
      "source": [
        "L.count(1)"
      ],
      "metadata": {
        "id": "jEsU02mpCVSj"
      },
      "execution_count": null,
      "outputs": []
    },
    {
      "cell_type": "code",
      "source": [
        "L.remove(2)"
      ],
      "metadata": {
        "id": "IGNdu4MwCcvM"
      },
      "execution_count": null,
      "outputs": []
    },
    {
      "cell_type": "code",
      "source": [
        "L\n"
      ],
      "metadata": {
        "id": "sRtSN8R8CpCY"
      },
      "execution_count": null,
      "outputs": []
    },
    {
      "cell_type": "code",
      "source": [
        "L.pop()"
      ],
      "metadata": {
        "id": "0TyNqhs8Cp8j"
      },
      "execution_count": null,
      "outputs": []
    },
    {
      "cell_type": "code",
      "source": [
        "L.sort()"
      ],
      "metadata": {
        "id": "UfoPpU-zCzbc"
      },
      "execution_count": null,
      "outputs": []
    },
    {
      "cell_type": "code",
      "source": [
        "L"
      ],
      "metadata": {
        "id": "CQzfdRElC07F"
      },
      "execution_count": null,
      "outputs": []
    },
    {
      "cell_type": "code",
      "source": [
        "list(range(1000))"
      ],
      "metadata": {
        "id": "cxvs91i_C5aM"
      },
      "execution_count": null,
      "outputs": []
    },
    {
      "cell_type": "code",
      "source": [
        "L2=list(range(100000))"
      ],
      "metadata": {
        "id": "2gruKOnCDDts"
      },
      "execution_count": null,
      "outputs": []
    },
    {
      "cell_type": "code",
      "source": [
        "L3=[]\n",
        "for i in L2:\n",
        "  L3.append(i**2)"
      ],
      "metadata": {
        "id": "CuoCfWHJDPjr"
      },
      "execution_count": null,
      "outputs": []
    },
    {
      "cell_type": "code",
      "source": [
        "from numpy import *\n",
        "from matplotlib.pyplot import *"
      ],
      "metadata": {
        "id": "8x40YelLDXh0"
      },
      "execution_count": null,
      "outputs": []
    },
    {
      "cell_type": "code",
      "source": [
        "e"
      ],
      "metadata": {
        "id": "pIIMq6goDr4z"
      },
      "execution_count": null,
      "outputs": []
    },
    {
      "cell_type": "code",
      "source": [
        "sqrt(192839012873)"
      ],
      "metadata": {
        "id": "MVEl3TnjDx1O"
      },
      "execution_count": null,
      "outputs": []
    },
    {
      "cell_type": "code",
      "source": [
        "exp(456)"
      ],
      "metadata": {
        "id": "yJ1AlyetEFpd"
      },
      "execution_count": null,
      "outputs": []
    },
    {
      "cell_type": "code",
      "source": [
        "log(34)"
      ],
      "metadata": {
        "id": "z1OMCzUcEInw"
      },
      "execution_count": null,
      "outputs": []
    },
    {
      "cell_type": "code",
      "source": [
        "cos(pi)"
      ],
      "metadata": {
        "id": "c2lQcDK-ELPm"
      },
      "execution_count": null,
      "outputs": []
    },
    {
      "cell_type": "code",
      "source": [
        "X=arange(-4,4,0.1)\n",
        "Y=sin(X)\n",
        "Z=cos(X)"
      ],
      "metadata": {
        "id": "w_oiWoG2EPgV"
      },
      "execution_count": null,
      "outputs": []
    },
    {
      "cell_type": "code",
      "source": [
        "plot(X,Y)\n",
        "plot(X,Z)"
      ],
      "metadata": {
        "id": "S2uhSza9Ec_0"
      },
      "execution_count": null,
      "outputs": []
    },
    {
      "cell_type": "code",
      "source": [
        "C=arange(0,5,0.1)\n",
        "plot(C,exp(C))\n",
        "plot(C,log(C))\n",
        "\n",
        "\n",
        "\n"
      ],
      "metadata": {
        "id": "folzP28hEqh8"
      },
      "execution_count": null,
      "outputs": []
    },
    {
      "cell_type": "code",
      "source": [
        "plot(C,log(C))"
      ],
      "metadata": {
        "id": "HUGQmAj5E7ek"
      },
      "execution_count": null,
      "outputs": []
    },
    {
      "cell_type": "code",
      "source": [
        "random.random(1000)\n"
      ],
      "metadata": {
        "id": "lrJh7r_PFOaD"
      },
      "execution_count": null,
      "outputs": []
    },
    {
      "cell_type": "code",
      "source": [
        "random.randint(2,size=(100000))"
      ],
      "metadata": {
        "id": "OyuGFY3XE_JN"
      },
      "execution_count": null,
      "outputs": []
    },
    {
      "cell_type": "code",
      "source": [
        "R1=random.random(1000)"
      ],
      "metadata": {
        "id": "8hisMLtEFc61"
      },
      "execution_count": null,
      "outputs": []
    },
    {
      "cell_type": "code",
      "source": [
        "hist(R1)"
      ],
      "metadata": {
        "id": "FyPizqTAFxd9"
      },
      "execution_count": null,
      "outputs": []
    },
    {
      "cell_type": "code",
      "source": [
        "hist(random.normal(size=100000))"
      ],
      "metadata": {
        "id": "E9G_hTf_F0IB"
      },
      "execution_count": null,
      "outputs": []
    },
    {
      "cell_type": "code",
      "source": [
        "hist(random.exponential(size=10000))"
      ],
      "metadata": {
        "id": "GY8RwUl4F6lF"
      },
      "execution_count": null,
      "outputs": []
    },
    {
      "cell_type": "code",
      "source": [
        "random.normal(size=(100)).round().mean()"
      ],
      "metadata": {
        "id": "GAaOHg8zGDFG"
      },
      "execution_count": null,
      "outputs": []
    },
    {
      "cell_type": "code",
      "source": [],
      "metadata": {
        "id": "pvRUnnOOGU8t"
      },
      "execution_count": null,
      "outputs": []
    }
  ]
}