{
  "nbformat": 4,
  "nbformat_minor": 0,
  "metadata": {
    "colab": {
      "private_outputs": true,
      "provenance": [],
      "authorship_tag": "ABX9TyNKHqpOQRroUXJl0YKE/74o",
      "include_colab_link": true
    },
    "kernelspec": {
      "name": "python3",
      "display_name": "Python 3"
    },
    "language_info": {
      "name": "python"
    }
  },
  "cells": [
    {
      "cell_type": "markdown",
      "metadata": {
        "id": "view-in-github",
        "colab_type": "text"
      },
      "source": [
        "<a href=\"https://colab.research.google.com/github/acb100cias/Bioestadistica/blob/main/plotly3.ipynb\" target=\"_parent\"><img src=\"https://colab.research.google.com/assets/colab-badge.svg\" alt=\"Open In Colab\"/></a>"
      ]
    },
    {
      "cell_type": "code",
      "execution_count": null,
      "metadata": {
        "id": "xnQVcgjbTrNp"
      },
      "outputs": [],
      "source": [
        "import plotly.express as px\n",
        "import requests\n",
        "import pandas as pd"
      ]
    },
    {
      "cell_type": "code",
      "source": [
        "gap=px.data.gapminder()"
      ],
      "metadata": {
        "id": "nXaGjKppWY_h"
      },
      "execution_count": null,
      "outputs": []
    },
    {
      "cell_type": "code",
      "source": [
        "gap"
      ],
      "metadata": {
        "id": "2whbbtLdXLbE"
      },
      "execution_count": null,
      "outputs": []
    },
    {
      "cell_type": "code",
      "source": [],
      "metadata": {
        "id": "XFXX3pvnXoDg"
      },
      "execution_count": null,
      "outputs": []
    },
    {
      "cell_type": "code",
      "source": [
        "fig=px.scatter_geo(gap,locations='iso_alpha',color='continent',hover_name='country',size='gdpPercap',projection='natural earth',animation_frame='year')"
      ],
      "metadata": {
        "id": "ss2lxVhOXNG0"
      },
      "execution_count": null,
      "outputs": []
    },
    {
      "cell_type": "code",
      "source": [
        "fig.show()"
      ],
      "metadata": {
        "id": "CYd9Fev7YbRH"
      },
      "execution_count": null,
      "outputs": []
    },
    {
      "cell_type": "code",
      "source": [
        "ele=px.data.election()\n",
        "gj=px.data.election_geojson()"
      ],
      "metadata": {
        "id": "vUfHbiwEYdSR"
      },
      "execution_count": null,
      "outputs": []
    },
    {
      "cell_type": "code",
      "source": [
        "ele"
      ],
      "metadata": {
        "id": "BnnNBff_Zz5v"
      },
      "execution_count": null,
      "outputs": []
    },
    {
      "cell_type": "code",
      "source": [
        "fig3=px.choropleth_mapbox(ele,geojson=gj,locations='district',color='winner',hover_data=['Bergeron','Coderre','Joly'],featureidkey='properties.district',center={'lat':45.5517,'lon':-73.7073},mapbox_style='carto-positron',zoom=9)"
      ],
      "metadata": {
        "id": "BAoE39_aZ0wt"
      },
      "execution_count": null,
      "outputs": []
    },
    {
      "cell_type": "code",
      "source": [
        "fig3.show()"
      ],
      "metadata": {
        "id": "qDzZWiHFd_SF"
      },
      "execution_count": null,
      "outputs": []
    },
    {
      "cell_type": "code",
      "source": [
        "data = {'estado': {0: 'oaxaca',\n",
        "      1: 'nuevo león',\n",
        "      2: 'guerrero',\n",
        "      3: 'hidalgo',\n",
        "      4: 'baja california sur',\n",
        "      5: 'puebla',\n",
        "      6: 'nayarit',\n",
        "      7: 'tabasco',\n",
        "      8: 'baja california',\n",
        "      9: 'quintana roo',\n",
        "      10: 'michoacán',\n",
        "      11: 'tamaulipas',\n",
        "      12: 'méxico',\n",
        "      13: 'sinaloa',\n",
        "      14: 'colima',\n",
        "      15: 'ciudad de méxico',\n",
        "      16: 'morelos',\n",
        "      17: 'veracruz',\n",
        "      18: 'chiapas',\n",
        "      19: 'mexico',\n",
        "      20: 'tlaxcala',\n",
        "      21: 'yucatán',\n",
        "      22: 'durango',\n",
        "      23: 'chihuahua',\n",
        "      24: 'zacatecas',\n",
        "      25: 'jalisco',\n",
        "      26: 'coahuila',\n",
        "      27: 'san luis potosí',\n",
        "      28: 'aguascalientes',\n",
        "      29: 'campeche',\n",
        "      30: 'nuevo leon',\n",
        "      31: 'querétaro',\n",
        "      32: 'guanajuato',\n",
        "      33: 'sonora'},\n",
        "     'percentage': {0: 0.34558823529411764,\n",
        "      1: 0.3333333333333333,\n",
        "      2: 0.3218390804597701,\n",
        "      3: 0.30857142857142855,\n",
        "      4: 0.30120481927710846,\n",
        "      5: 0.28860294117647056,\n",
        "      6: 0.2857142857142857,\n",
        "      7: 0.2616033755274262,\n",
        "      8: 0.2576530612244898,\n",
        "      9: 0.2483221476510067,\n",
        "      10: 0.23902439024390243,\n",
        "      11: 0.23595505617977527,\n",
        "      12: 0.23383084577114427,\n",
        "      13: 0.2289855072463768,\n",
        "      14: 0.22727272727272727,\n",
        "      15: 0.22676579925650558,\n",
        "      16: 0.22330097087378642,\n",
        "      17: 0.22186495176848875,\n",
        "      18: 0.21978021978021978,\n",
        "      19: 0.2153928380545163,\n",
        "      20: 0.20689655172413793,\n",
        "      21: 0.1980952380952381,\n",
        "      22: 0.19626168224299065,\n",
        "      23: 0.19240506329113924,\n",
        "      24: 0.1875,\n",
        "      25: 0.1852576647097195,\n",
        "      26: 0.18493150684931506,\n",
        "      27: 0.18250950570342206,\n",
        "      28: 0.18064516129032257,\n",
        "      29: 0.18007662835249041,\n",
        "      30: 0.17862481315396114,\n",
        "      31: 0.1733490566037736,\n",
        "      32: 0.16173570019723865,\n",
        "      33: 0.15902140672782875}}\n"
      ],
      "metadata": {
        "id": "zoeLP7TChlAb"
      },
      "execution_count": null,
      "outputs": []
    },
    {
      "cell_type": "code",
      "source": [
        "repo_url = 'https://raw.githubusercontent.com/angelnmara/geojson/master/mexicoHigh.json'\n",
        "#Archivo GeoJSON\n",
        "mx_regions_geo = requests.get(repo_url).json()\n"
      ],
      "metadata": {
        "id": "Jg6sxWGaiF5F"
      },
      "execution_count": null,
      "outputs": []
    },
    {
      "cell_type": "code",
      "source": [
        "mx_regions_geo"
      ],
      "metadata": {
        "id": "dmVzgitljD4-"
      },
      "execution_count": null,
      "outputs": []
    },
    {
      "cell_type": "code",
      "source": [
        "import plotly.graph_objects as go\n",
        "\n",
        "df = pd.DataFrame({'estado': data['estado'].values(), 'percentage':   data['percentage'].values()})\n"
      ],
      "metadata": {
        "id": "xWl089SceCf_"
      },
      "execution_count": null,
      "outputs": []
    },
    {
      "cell_type": "code",
      "source": [
        "df"
      ],
      "metadata": {
        "id": "4IXMSjUOjfKi"
      },
      "execution_count": null,
      "outputs": []
    },
    {
      "cell_type": "code",
      "source": [
        "df['estado'] = df['estado'].str.title()\n",
        "\n"
      ],
      "metadata": {
        "id": "otS5ULJeiEz9"
      },
      "execution_count": null,
      "outputs": []
    },
    {
      "cell_type": "code",
      "source": [
        "df"
      ],
      "metadata": {
        "id": "551xunV3jpcM"
      },
      "execution_count": null,
      "outputs": []
    },
    {
      "cell_type": "code",
      "source": [
        "df['estado'][15]='Ciudad de México'\n",
        "df['estado'][12]='México'\n"
      ],
      "metadata": {
        "id": "oULhGPBLjyg2"
      },
      "execution_count": null,
      "outputs": []
    },
    {
      "cell_type": "code",
      "source": [
        "fig = go.Figure(go.Choroplethmapbox(name='Mexico', geojson=mx_regions_geo, ids=df['estado'], z=df['percentage'],\n",
        "                                  locations=df['estado'], featureidkey='properties.name', colorscale='reds',\n",
        "                                  marker=dict(line=dict(color='black'), opacity=0.6)))\n",
        "\n",
        "fig.update_layout(mapbox_style='open-street-map',\n",
        "                  mapbox_zoom=4,\n",
        "                  mapbox_center = {'lat': 25, 'lon': -99}\n",
        "                 )\n",
        "\n",
        "fig.update_layout(margin={\"r\":0,\"t\":0,\"l\":0,\"b\":0})\n",
        "fig.show()"
      ],
      "metadata": {
        "id": "AKP5DggVjebR"
      },
      "execution_count": null,
      "outputs": []
    },
    {
      "cell_type": "code",
      "source": [],
      "metadata": {
        "id": "w60Gnp-wkqat"
      },
      "execution_count": null,
      "outputs": []
    }
  ]
}