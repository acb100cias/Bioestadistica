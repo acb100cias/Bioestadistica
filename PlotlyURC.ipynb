{
  "nbformat": 4,
  "nbformat_minor": 0,
  "metadata": {
    "colab": {
      "private_outputs": true,
      "provenance": [],
      "authorship_tag": "ABX9TyMB2oxsAuva4okbEWFkKJLg",
      "include_colab_link": true
    },
    "kernelspec": {
      "name": "python3",
      "display_name": "Python 3"
    },
    "language_info": {
      "name": "python"
    }
  },
  "cells": [
    {
      "cell_type": "markdown",
      "metadata": {
        "id": "view-in-github",
        "colab_type": "text"
      },
      "source": [
        "<a href=\"https://colab.research.google.com/github/acb100cias/Bioestadistica/blob/main/PlotlyURC.ipynb\" target=\"_parent\"><img src=\"https://colab.research.google.com/assets/colab-badge.svg\" alt=\"Open In Colab\"/></a>"
      ]
    },
    {
      "cell_type": "code",
      "execution_count": null,
      "metadata": {
        "id": "58Kwd3wdRVo2"
      },
      "outputs": [],
      "source": [
        "import plotly.express as px"
      ]
    },
    {
      "cell_type": "code",
      "source": [
        "fig = px.line(x=[1,2,3],y=[2,4,6])"
      ],
      "metadata": {
        "id": "6M5nrXZiWITM"
      },
      "execution_count": null,
      "outputs": []
    },
    {
      "cell_type": "code",
      "source": [
        "fig."
      ],
      "metadata": {
        "id": "y402sKA_WbzC"
      },
      "execution_count": null,
      "outputs": []
    },
    {
      "cell_type": "code",
      "source": [
        "df=px.data.iris()"
      ],
      "metadata": {
        "id": "lyRv19rAWeuF"
      },
      "execution_count": null,
      "outputs": []
    },
    {
      "cell_type": "code",
      "source": [
        "df"
      ],
      "metadata": {
        "id": "VqJvoV69W2mB"
      },
      "execution_count": null,
      "outputs": []
    },
    {
      "cell_type": "code",
      "source": [
        "fig=px.line(df,x=\"species\",y='petal_width')"
      ],
      "metadata": {
        "id": "4XEvE5kiW3XK"
      },
      "execution_count": null,
      "outputs": []
    },
    {
      "cell_type": "code",
      "source": [
        "fig.show()"
      ],
      "metadata": {
        "id": "1kglA51QXBhS"
      },
      "execution_count": null,
      "outputs": []
    },
    {
      "cell_type": "code",
      "source": [
        "fig=px.bar(df,x='sepal_width',y='sepal_length')\n",
        "fig.show()"
      ],
      "metadata": {
        "id": "mbGAWftMXDCM"
      },
      "execution_count": null,
      "outputs": []
    },
    {
      "cell_type": "code",
      "source": [
        "fig=px.histogram(df,x='sepal_width',y='petal_width')\n",
        "fig.show()"
      ],
      "metadata": {
        "id": "7vWshpYhXP01"
      },
      "execution_count": null,
      "outputs": []
    },
    {
      "cell_type": "code",
      "source": [
        "fig=px.scatter(df,x='species',y='petal_width')\n",
        "fig.show()"
      ],
      "metadata": {
        "id": "IQVWDh0VXgSb"
      },
      "execution_count": null,
      "outputs": []
    },
    {
      "cell_type": "code",
      "source": [
        "df=px.data.tips()"
      ],
      "metadata": {
        "id": "X4peH30hXmlH"
      },
      "execution_count": null,
      "outputs": []
    },
    {
      "cell_type": "code",
      "source": [
        "df"
      ],
      "metadata": {
        "id": "aezL-xAyXq7l"
      },
      "execution_count": null,
      "outputs": []
    },
    {
      "cell_type": "code",
      "source": [
        "fig=px.pie(df,values='tip',names='smoker')\n",
        "fig.show()"
      ],
      "metadata": {
        "id": "61QIfhOZXrmE"
      },
      "execution_count": null,
      "outputs": []
    },
    {
      "cell_type": "code",
      "source": [
        "fig=px.box(df,x='day',y='total_bill')\n",
        "fig.show()"
      ],
      "metadata": {
        "id": "vsbl1j5pXz19"
      },
      "execution_count": null,
      "outputs": []
    },
    {
      "cell_type": "code",
      "source": [
        "fig=px.violin(df,x='day',y='total_bill')\n",
        "fig.show()"
      ],
      "metadata": {
        "id": "vzWuuuwdYNiK"
      },
      "execution_count": null,
      "outputs": []
    },
    {
      "cell_type": "code",
      "source": [
        "data=px.data.gapminder()"
      ],
      "metadata": {
        "id": "1t7guaibYa8M"
      },
      "execution_count": null,
      "outputs": []
    },
    {
      "cell_type": "code",
      "source": [
        "data"
      ],
      "metadata": {
        "id": "1hJZYoFZY2IW"
      },
      "execution_count": null,
      "outputs": []
    },
    {
      "cell_type": "code",
      "source": [
        "\n",
        "px.scatter(data,x='gdpPercap',y='lifeExp',size='pop',color='continent',log_x=True,animation_frame='year'\n",
        ",animation_group='country',size_max=55,range_x=[100,100000],range_y=[25,90],hover_name='country')"
      ],
      "metadata": {
        "id": "OY4UzmiFY2-1"
      },
      "execution_count": null,
      "outputs": []
    },
    {
      "cell_type": "code",
      "source": [
        "fig=px.bar(data,x='continent',y='pop',color='continent',animation_frame='year',animation_group='country',range_y=[0,4000000000])\n",
        "fig.show()"
      ],
      "metadata": {
        "id": "oKDuvPhlZXt_"
      },
      "execution_count": null,
      "outputs": []
    },
    {
      "cell_type": "code",
      "source": [
        "df=px.data.iris()"
      ],
      "metadata": {
        "id": "DR6NxZr8bIz3"
      },
      "execution_count": null,
      "outputs": []
    },
    {
      "cell_type": "code",
      "source": [
        "fig=px.density_heatmap(df,x='sepal_width',y='sepal_length',marginal_x='rug',marginal_y='histogram')\n",
        "fig.show()"
      ],
      "metadata": {
        "id": "QpvrRauNbx16"
      },
      "execution_count": null,
      "outputs": []
    },
    {
      "cell_type": "code",
      "source": [
        "df=px.data.election()"
      ],
      "metadata": {
        "id": "akyJKwVSb-5v"
      },
      "execution_count": null,
      "outputs": []
    },
    {
      "cell_type": "code",
      "source": [
        "df"
      ],
      "metadata": {
        "id": "aTaxGxStcbAr"
      },
      "execution_count": null,
      "outputs": []
    },
    {
      "cell_type": "code",
      "source": [
        "geojson=px.data.election_geojson()"
      ],
      "metadata": {
        "id": "_X4orYlGcbtM"
      },
      "execution_count": null,
      "outputs": []
    },
    {
      "cell_type": "code",
      "source": [
        "geojson"
      ],
      "metadata": {
        "id": "q1pefY77csId"
      },
      "execution_count": null,
      "outputs": []
    },
    {
      "cell_type": "code",
      "source": [
        "fig=px.choropleth_mapbox(df,geojson=geojson,color=\"Bergeron\",\n",
        "                           locations=\"district\", featureidkey=\"properties.district\",\n",
        "                           center={\"lat\": 45.5517, \"lon\": -73.7073},mapbox_style='carto-positron',zoom=9)\n",
        "fig.show()"
      ],
      "metadata": {
        "id": "kR65RhY7ct3E"
      },
      "execution_count": null,
      "outputs": []
    },
    {
      "cell_type": "code",
      "source": [
        "df=px.data.carshare()"
      ],
      "metadata": {
        "id": "Oouo12n2dKYZ"
      },
      "execution_count": null,
      "outputs": []
    },
    {
      "cell_type": "code",
      "source": [
        "df"
      ],
      "metadata": {
        "id": "OjTzEnucdpmo"
      },
      "execution_count": null,
      "outputs": []
    },
    {
      "cell_type": "code",
      "source": [
        "fig=px.scatter_mapbox(df,lat='centroid_lat',lon='centroid_lon',color='peak_hour',size='car_hours',\n",
        "                     mapbox_style='carto-positron',color_continuous_scale=px.colors.cyclical.IceFire,zoom=10)\n",
        "fig.show()"
      ],
      "metadata": {
        "id": "YXLppYI_dqK2"
      },
      "execution_count": null,
      "outputs": []
    },
    {
      "cell_type": "code",
      "source": [
        "df2=px.data.gapminder()"
      ],
      "metadata": {
        "id": "2xjDfFYXeE4q"
      },
      "execution_count": null,
      "outputs": []
    },
    {
      "cell_type": "code",
      "source": [
        "fig=px.scatter_geo(df2,locations='iso_alpha',color='continent',hover_name='country',size='pop',projection='natural earth')\n",
        "fig.show()"
      ],
      "metadata": {
        "id": "eIMIaCkLebEu"
      },
      "execution_count": null,
      "outputs": []
    },
    {
      "cell_type": "code",
      "source": [
        "fig=px.scatter_geo(df2,locations='iso_alpha',color='continent',\n",
        "                   hover_name='country',size='gdpPercap',projection='natural earth',\n",
        "                  animation_frame='year')\n",
        "fig.show()"
      ],
      "metadata": {
        "id": "K3UgP2yXepV3"
      },
      "execution_count": null,
      "outputs": []
    },
    {
      "cell_type": "code",
      "source": [
        "from pandas import *\n",
        "from geopandas import *"
      ],
      "metadata": {
        "id": "wC4x8z9Qe3E6"
      },
      "execution_count": null,
      "outputs": []
    },
    {
      "cell_type": "code",
      "source": [
        "m=read_file('/content/00ent.shp')"
      ],
      "metadata": {
        "id": "Epfp7Va1fZ4G"
      },
      "execution_count": null,
      "outputs": []
    },
    {
      "cell_type": "code",
      "source": [
        "m.plot(cmap='Reds')"
      ],
      "metadata": {
        "id": "BurH47qQiDb1"
      },
      "execution_count": null,
      "outputs": []
    },
    {
      "cell_type": "code",
      "source": [],
      "metadata": {
        "id": "Sd8n86hSiny3"
      },
      "execution_count": null,
      "outputs": []
    }
  ]
}